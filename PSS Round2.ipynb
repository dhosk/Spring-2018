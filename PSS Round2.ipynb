{
 "cells": [
  {
   "cell_type": "code",
   "execution_count": 1,
   "metadata": {
    "collapsed": true
   },
   "outputs": [],
   "source": [
    "import json\n",
    "from urllib.parse import urlencode\n",
    "from urllib.request import urlretrieve\n",
    "import pandas as pd\n",
    "import numpy as np\n",
    "def get_nba_data(endpt, params, return_url=False):\n",
    "\n",
    "    ## endpt: https://github.com/seemethere/nba_py/wiki/stats.nba.com-Endpoint-Documentation\n",
    "    ## params: dictionary of parameters: i.e., {'LeagueID':'00'}\n",
    "\n",
    "    useragent = \"\\\"Mozilla/5.0 (Macintosh; Intel Mac OS X 10_11_2) AppleWebKit/601.3.9 (KHTML, like Gecko) Version/9.0.2 Safari/601.3.9\\\"\"\n",
    "\n",
    "    dataurl = \"\\\"\" + \"http://stats.nba.com/stats/\" + endpt + \"?\" + urlencode(params) + \"\\\"\"\n",
    "    \n",
    "    # for debugging: just return the url\n",
    "    if return_url:\n",
    "        return(dataurl)\n",
    "    \n",
    "    jsonstr = !wget -q -O - --user-agent={useragent} {dataurl}\n",
    "    \n",
    "    data = json.loads(jsonstr[0])\n",
    "    \n",
    "    h = data['resultSets'][0]['headers']\n",
    "    d = data['resultSets'][0]['rowSet']\n",
    "    \n",
    "    return(pd.DataFrame(d, columns=h))\n"
   ]
  },
  {
   "cell_type": "code",
   "execution_count": 3,
   "metadata": {},
   "outputs": [],
   "source": [
    "endpt = 'commonplayoffseries'\n",
    "params = {\"LeagueID\":\"00\",\n",
    "          \"Season\":\"2017-18\"\n",
    "         }\n",
    "data = get_nba_data(endpt=endpt,params=params)"
   ]
  },
  {
   "cell_type": "code",
   "execution_count": 8,
   "metadata": {},
   "outputs": [],
   "source": [
    "game_IDs = data.GAME_ID"
   ]
  },
  {
   "cell_type": "code",
   "execution_count": 9,
   "metadata": {},
   "outputs": [
    {
     "data": {
      "text/plain": [
       "0     0041700101\n",
       "1     0041700102\n",
       "2     0041700103\n",
       "3     0041700104\n",
       "4     0041700105\n",
       "5     0041700106\n",
       "6     0041700111\n",
       "7     0041700112\n",
       "8     0041700113\n",
       "9     0041700114\n",
       "10    0041700115\n",
       "11    0041700116\n",
       "12    0041700117\n",
       "13    0041700121\n",
       "14    0041700122\n",
       "15    0041700123\n",
       "16    0041700124\n",
       "17    0041700125\n",
       "18    0041700131\n",
       "19    0041700132\n",
       "20    0041700133\n",
       "21    0041700134\n",
       "22    0041700135\n",
       "23    0041700136\n",
       "24    0041700137\n",
       "25    0041700141\n",
       "26    0041700142\n",
       "27    0041700143\n",
       "28    0041700144\n",
       "29    0041700145\n",
       "         ...    \n",
       "52    0041700214\n",
       "53    0041700215\n",
       "54    0041700221\n",
       "55    0041700222\n",
       "56    0041700223\n",
       "57    0041700224\n",
       "58    0041700225\n",
       "59    0041700231\n",
       "60    0041700232\n",
       "61    0041700233\n",
       "62    0041700234\n",
       "63    0041700235\n",
       "64    0041700301\n",
       "65    0041700302\n",
       "66    0041700303\n",
       "67    0041700304\n",
       "68    0041700305\n",
       "69    0041700306\n",
       "70    0041700307\n",
       "71    0041700311\n",
       "72    0041700312\n",
       "73    0041700313\n",
       "74    0041700314\n",
       "75    0041700315\n",
       "76    0041700316\n",
       "77    0041700317\n",
       "78    0041700401\n",
       "79    0041700402\n",
       "80    0041700403\n",
       "81    0041700404\n",
       "Name: GAME_ID, Length: 82, dtype: object"
      ]
     },
     "execution_count": 9,
     "metadata": {},
     "output_type": "execute_result"
    }
   ],
   "source": []
  },
  {
   "cell_type": "code",
   "execution_count": null,
   "metadata": {
    "collapsed": true
   },
   "outputs": [],
   "source": []
  }
 ],
 "metadata": {
  "kernelspec": {
   "display_name": "Python 3",
   "language": "python",
   "name": "python3"
  },
  "language_info": {
   "codemirror_mode": {
    "name": "ipython",
    "version": 3
   },
   "file_extension": ".py",
   "mimetype": "text/x-python",
   "name": "python",
   "nbconvert_exporter": "python",
   "pygments_lexer": "ipython3",
   "version": "3.6.1"
  }
 },
 "nbformat": 4,
 "nbformat_minor": 2
}
