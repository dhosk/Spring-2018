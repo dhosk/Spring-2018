{
 "cells": [
  {
   "cell_type": "code",
   "execution_count": 1,
   "metadata": {},
   "outputs": [],
   "source": [
    "import json\n",
    "from urllib.parse import urlencode\n",
    "from urllib.request import urlretrieve\n",
    "import pandas as pd\n",
    "import numpy as np\n",
    "%matplotlib inline\n",
    "import matplotlib.pyplot as plt\n",
    "import pandas as pd\n",
    "import seaborn as sns\n",
    "\n",
    "import requests\n",
    "from lxml import html\n",
    "\n",
    "import pickle\n"
   ]
  },
  {
   "cell_type": "code",
   "execution_count": 37,
   "metadata": {},
   "outputs": [],
   "source": [
    "def get_nba_data(endpt, params, return_url=False):\n",
    "\n",
    "    ## endpt: https://github.com/seemethere/nba_py/wiki/stats.nba.com-Endpoint-Documentation\n",
    "    ## params: dictionary of parameters: i.e., {'LeagueID':'00'}\n",
    "\n",
    "    useragent = \"\\\"Mozilla/5.0 (X11; Fedora; Linux x86_64) AppleWebKit/537.36 (KHTML, like Gecko) Chrome/64.0.3282.186 Safari/537.36\\\"\"\n",
    "    dataurl = \"\\\"\" + \"http://stats.nba.com/stats/\" + endpt + \"?\" + urlencode(params) + \"\\\"\"\n",
    "    \n",
    "    # for debugging: just return the url\n",
    "    if return_url:\n",
    "        return(dataurl)\n",
    "    \n",
    "    jsonstr = !wget -q -O - --user-agent={useragent} {dataurl}\n",
    "    \n",
    "    data = json.loads(jsonstr[0])\n",
    "    \n",
    "    h = data['resultSets'][0]['headers']\n",
    "    d = data['resultSets'][0]['rowSet']\n",
    "    \n",
    "    return(pd.DataFrame(d, columns=h))"
   ]
  },
  {
   "cell_type": "markdown",
   "metadata": {},
   "source": [
    "Start by exploring combine data"
   ]
  },
  {
   "cell_type": "code",
   "execution_count": 5,
   "metadata": {},
   "outputs": [
    {
     "ename": "JSONDecodeError",
     "evalue": "Expecting value: line 1 column 1 (char 0)",
     "output_type": "error",
     "traceback": [
      "\u001b[0;31m---------------------------------------------------------------------------\u001b[0m",
      "\u001b[0;31mJSONDecodeError\u001b[0m                           Traceback (most recent call last)",
      "\u001b[0;32m<ipython-input-5-8e66072610b4>\u001b[0m in \u001b[0;36m<module>\u001b[0;34m()\u001b[0m\n\u001b[1;32m      3\u001b[0m           \u001b[0;34m'IsOnlyCurrentSeason'\u001b[0m\u001b[0;34m:\u001b[0m\u001b[0;34m'0'\u001b[0m\u001b[0;34m\u001b[0m\u001b[0m\n\u001b[1;32m      4\u001b[0m          }\n\u001b[0;32m----> 5\u001b[0;31m \u001b[0mdata\u001b[0m \u001b[0;34m=\u001b[0m \u001b[0mget_nba_data\u001b[0m\u001b[0;34m(\u001b[0m\u001b[0mendpt\u001b[0m\u001b[0;34m=\u001b[0m\u001b[0;34m\"commonallplayers\"\u001b[0m\u001b[0;34m,\u001b[0m\u001b[0mparams\u001b[0m\u001b[0;34m=\u001b[0m\u001b[0mparams\u001b[0m\u001b[0;34m)\u001b[0m\u001b[0;34m\u001b[0m\u001b[0m\n\u001b[0m\u001b[1;32m      6\u001b[0m \u001b[0mdata\u001b[0m\u001b[0;34m[\u001b[0m\u001b[0;34m'PLAYER_NAME'\u001b[0m\u001b[0;34m]\u001b[0m\u001b[0;34m=\u001b[0m\u001b[0mpd\u001b[0m\u001b[0;34m.\u001b[0m\u001b[0mSeries\u001b[0m\u001b[0;34m(\u001b[0m\u001b[0mdata\u001b[0m\u001b[0;34m[\u001b[0m\u001b[0;34m'DISPLAY_FIRST_LAST'\u001b[0m\u001b[0;34m]\u001b[0m\u001b[0;34m,\u001b[0m\u001b[0mdtype\u001b[0m\u001b[0;34m=\u001b[0m\u001b[0mstr\u001b[0m\u001b[0;34m)\u001b[0m\u001b[0;34m+\u001b[0m\u001b[0;34m\"(\"\u001b[0m\u001b[0;34m+\u001b[0m\u001b[0mpd\u001b[0m\u001b[0;34m.\u001b[0m\u001b[0mSeries\u001b[0m\u001b[0;34m(\u001b[0m\u001b[0mdata\u001b[0m\u001b[0;34m.\u001b[0m\u001b[0mFROM_YEAR\u001b[0m\u001b[0;34m,\u001b[0m\u001b[0mdtype\u001b[0m\u001b[0;34m=\u001b[0m\u001b[0mstr\u001b[0m\u001b[0;34m)\u001b[0m\u001b[0;34m+\u001b[0m\u001b[0;34m\")\"\u001b[0m\u001b[0;34m\u001b[0m\u001b[0m\n\u001b[1;32m      7\u001b[0m \u001b[0mdata\u001b[0m \u001b[0;34m=\u001b[0m \u001b[0mdata\u001b[0m\u001b[0;34m.\u001b[0m\u001b[0mset_index\u001b[0m\u001b[0;34m(\u001b[0m\u001b[0;34m'PLAYER_NAME'\u001b[0m\u001b[0;34m)\u001b[0m\u001b[0;34m\u001b[0m\u001b[0m\n",
      "\u001b[0;32m<ipython-input-4-8c8bceb1dd9a>\u001b[0m in \u001b[0;36mget_nba_data\u001b[0;34m(endpt, params, return_url)\u001b[0m\n\u001b[1;32m     14\u001b[0m     \u001b[0mjsonstr\u001b[0m \u001b[0;34m=\u001b[0m \u001b[0mget_ipython\u001b[0m\u001b[0;34m(\u001b[0m\u001b[0;34m)\u001b[0m\u001b[0;34m.\u001b[0m\u001b[0mgetoutput\u001b[0m\u001b[0;34m(\u001b[0m\u001b[0;34m'wget -q -O - --user-agent={useragent} {dataurl}'\u001b[0m\u001b[0;34m)\u001b[0m\u001b[0;34m\u001b[0m\u001b[0m\n\u001b[1;32m     15\u001b[0m \u001b[0;34m\u001b[0m\u001b[0m\n\u001b[0;32m---> 16\u001b[0;31m     \u001b[0mdata\u001b[0m \u001b[0;34m=\u001b[0m \u001b[0mjson\u001b[0m\u001b[0;34m.\u001b[0m\u001b[0mloads\u001b[0m\u001b[0;34m(\u001b[0m\u001b[0mjsonstr\u001b[0m\u001b[0;34m[\u001b[0m\u001b[0;36m0\u001b[0m\u001b[0;34m]\u001b[0m\u001b[0;34m)\u001b[0m\u001b[0;34m\u001b[0m\u001b[0m\n\u001b[0m\u001b[1;32m     17\u001b[0m \u001b[0;34m\u001b[0m\u001b[0m\n\u001b[1;32m     18\u001b[0m     \u001b[0mh\u001b[0m \u001b[0;34m=\u001b[0m \u001b[0mdata\u001b[0m\u001b[0;34m[\u001b[0m\u001b[0;34m'resultSets'\u001b[0m\u001b[0;34m]\u001b[0m\u001b[0;34m[\u001b[0m\u001b[0;36m0\u001b[0m\u001b[0;34m]\u001b[0m\u001b[0;34m[\u001b[0m\u001b[0;34m'headers'\u001b[0m\u001b[0;34m]\u001b[0m\u001b[0;34m\u001b[0m\u001b[0m\n",
      "\u001b[0;32m~/anaconda3/lib/python3.6/json/__init__.py\u001b[0m in \u001b[0;36mloads\u001b[0;34m(s, encoding, cls, object_hook, parse_float, parse_int, parse_constant, object_pairs_hook, **kw)\u001b[0m\n\u001b[1;32m    352\u001b[0m             \u001b[0mparse_int\u001b[0m \u001b[0;32mis\u001b[0m \u001b[0;32mNone\u001b[0m \u001b[0;32mand\u001b[0m \u001b[0mparse_float\u001b[0m \u001b[0;32mis\u001b[0m \u001b[0;32mNone\u001b[0m \u001b[0;32mand\u001b[0m\u001b[0;34m\u001b[0m\u001b[0m\n\u001b[1;32m    353\u001b[0m             parse_constant is None and object_pairs_hook is None and not kw):\n\u001b[0;32m--> 354\u001b[0;31m         \u001b[0;32mreturn\u001b[0m \u001b[0m_default_decoder\u001b[0m\u001b[0;34m.\u001b[0m\u001b[0mdecode\u001b[0m\u001b[0;34m(\u001b[0m\u001b[0ms\u001b[0m\u001b[0;34m)\u001b[0m\u001b[0;34m\u001b[0m\u001b[0m\n\u001b[0m\u001b[1;32m    355\u001b[0m     \u001b[0;32mif\u001b[0m \u001b[0mcls\u001b[0m \u001b[0;32mis\u001b[0m \u001b[0;32mNone\u001b[0m\u001b[0;34m:\u001b[0m\u001b[0;34m\u001b[0m\u001b[0m\n\u001b[1;32m    356\u001b[0m         \u001b[0mcls\u001b[0m \u001b[0;34m=\u001b[0m \u001b[0mJSONDecoder\u001b[0m\u001b[0;34m\u001b[0m\u001b[0m\n",
      "\u001b[0;32m~/anaconda3/lib/python3.6/json/decoder.py\u001b[0m in \u001b[0;36mdecode\u001b[0;34m(self, s, _w)\u001b[0m\n\u001b[1;32m    337\u001b[0m \u001b[0;34m\u001b[0m\u001b[0m\n\u001b[1;32m    338\u001b[0m         \"\"\"\n\u001b[0;32m--> 339\u001b[0;31m         \u001b[0mobj\u001b[0m\u001b[0;34m,\u001b[0m \u001b[0mend\u001b[0m \u001b[0;34m=\u001b[0m \u001b[0mself\u001b[0m\u001b[0;34m.\u001b[0m\u001b[0mraw_decode\u001b[0m\u001b[0;34m(\u001b[0m\u001b[0ms\u001b[0m\u001b[0;34m,\u001b[0m \u001b[0midx\u001b[0m\u001b[0;34m=\u001b[0m\u001b[0m_w\u001b[0m\u001b[0;34m(\u001b[0m\u001b[0ms\u001b[0m\u001b[0;34m,\u001b[0m \u001b[0;36m0\u001b[0m\u001b[0;34m)\u001b[0m\u001b[0;34m.\u001b[0m\u001b[0mend\u001b[0m\u001b[0;34m(\u001b[0m\u001b[0;34m)\u001b[0m\u001b[0;34m)\u001b[0m\u001b[0;34m\u001b[0m\u001b[0m\n\u001b[0m\u001b[1;32m    340\u001b[0m         \u001b[0mend\u001b[0m \u001b[0;34m=\u001b[0m \u001b[0m_w\u001b[0m\u001b[0;34m(\u001b[0m\u001b[0ms\u001b[0m\u001b[0;34m,\u001b[0m \u001b[0mend\u001b[0m\u001b[0;34m)\u001b[0m\u001b[0;34m.\u001b[0m\u001b[0mend\u001b[0m\u001b[0;34m(\u001b[0m\u001b[0;34m)\u001b[0m\u001b[0;34m\u001b[0m\u001b[0m\n\u001b[1;32m    341\u001b[0m         \u001b[0;32mif\u001b[0m \u001b[0mend\u001b[0m \u001b[0;34m!=\u001b[0m \u001b[0mlen\u001b[0m\u001b[0;34m(\u001b[0m\u001b[0ms\u001b[0m\u001b[0;34m)\u001b[0m\u001b[0;34m:\u001b[0m\u001b[0;34m\u001b[0m\u001b[0m\n",
      "\u001b[0;32m~/anaconda3/lib/python3.6/json/decoder.py\u001b[0m in \u001b[0;36mraw_decode\u001b[0;34m(self, s, idx)\u001b[0m\n\u001b[1;32m    355\u001b[0m             \u001b[0mobj\u001b[0m\u001b[0;34m,\u001b[0m \u001b[0mend\u001b[0m \u001b[0;34m=\u001b[0m \u001b[0mself\u001b[0m\u001b[0;34m.\u001b[0m\u001b[0mscan_once\u001b[0m\u001b[0;34m(\u001b[0m\u001b[0ms\u001b[0m\u001b[0;34m,\u001b[0m \u001b[0midx\u001b[0m\u001b[0;34m)\u001b[0m\u001b[0;34m\u001b[0m\u001b[0m\n\u001b[1;32m    356\u001b[0m         \u001b[0;32mexcept\u001b[0m \u001b[0mStopIteration\u001b[0m \u001b[0;32mas\u001b[0m \u001b[0merr\u001b[0m\u001b[0;34m:\u001b[0m\u001b[0;34m\u001b[0m\u001b[0m\n\u001b[0;32m--> 357\u001b[0;31m             \u001b[0;32mraise\u001b[0m \u001b[0mJSONDecodeError\u001b[0m\u001b[0;34m(\u001b[0m\u001b[0;34m\"Expecting value\"\u001b[0m\u001b[0;34m,\u001b[0m \u001b[0ms\u001b[0m\u001b[0;34m,\u001b[0m \u001b[0merr\u001b[0m\u001b[0;34m.\u001b[0m\u001b[0mvalue\u001b[0m\u001b[0;34m)\u001b[0m \u001b[0;32mfrom\u001b[0m \u001b[0;32mNone\u001b[0m\u001b[0;34m\u001b[0m\u001b[0m\n\u001b[0m\u001b[1;32m    358\u001b[0m         \u001b[0;32mreturn\u001b[0m \u001b[0mobj\u001b[0m\u001b[0;34m,\u001b[0m \u001b[0mend\u001b[0m\u001b[0;34m\u001b[0m\u001b[0m\n",
      "\u001b[0;31mJSONDecodeError\u001b[0m: Expecting value: line 1 column 1 (char 0)"
     ]
    }
   ],
   "source": [
    "params = {'LeagueID':'00',\n",
    "          'Season':'2017-18',\n",
    "          'IsOnlyCurrentSeason':'0'\n",
    "         }\n",
    "data = get_nba_data(endpt=\"commonallplayers\",params=params)\n",
    "data['PLAYER_NAME']=pd.Series(data['DISPLAY_FIRST_LAST'],dtype=str)+\"(\"+pd.Series(data.FROM_YEAR,dtype=str)+\")\"\n",
    "data = data.set_index('PLAYER_NAME')\n",
    "data['PLAYER_ID']=data['PERSON_ID']\n",
    "Player_ID_Dict = pd.Series(data['PLAYER_ID'],dtype=int)\n",
    "Player_ID_Dict\n",
    "Player_ID_Dict = Player_ID_Dict.loc[~Player_ID_Dict.index.duplicated(keep='first')]\n",
    "\n",
    "pickle.dump(Player_ID_Dict, open('NBAPlayerDict.pkl', 'wb'))"
   ]
  },
  {
   "cell_type": "code",
   "execution_count": null,
   "metadata": {},
   "outputs": [],
   "source": [
    "year = \"2012-13\"\n",
    "params = {\"LeagueID\":\"00\",\n",
    "          \"SeasonYear\":year}\n",
    "endpt = \"draftcombinedrillresults\"\n",
    "df1 = get_nba_data(endpt=endpt,params=params)"
   ]
  },
  {
   "cell_type": "code",
   "execution_count": null,
   "metadata": {},
   "outputs": [],
   "source": [
    "endpt = \"draftcombineplayeranthro\"\n",
    "df2 = get_nba_data(endpt=endpt,params=params)"
   ]
  },
  {
   "cell_type": "code",
   "execution_count": null,
   "metadata": {},
   "outputs": [],
   "source": [
    "year = \"2013-14\"\n",
    "params = {\"LeagueID\":\"00\",\n",
    "          \"SeasonYear\":year}\n",
    "endpt = \"draftcombinenonstationaryshooting\"\n",
    "df3 = get_nba_data(endpt=endpt,params=params)"
   ]
  },
  {
   "cell_type": "code",
   "execution_count": null,
   "metadata": {},
   "outputs": [],
   "source": [
    "df = pd.merge(df1,df2,on=\"PLAYER_ID\")"
   ]
  },
  {
   "cell_type": "markdown",
   "metadata": {},
   "source": [
    "Not looking like we'll have the shooting data very constitently. Lets merge two we have consitently and compile it over several years"
   ]
  },
  {
   "cell_type": "code",
   "execution_count": 6,
   "metadata": {},
   "outputs": [
    {
     "ename": "NameError",
     "evalue": "name 'df' is not defined",
     "output_type": "error",
     "traceback": [
      "\u001b[0;31m---------------------------------------------------------------------------\u001b[0m",
      "\u001b[0;31mNameError\u001b[0m                                 Traceback (most recent call last)",
      "\u001b[0;32m<ipython-input-6-b21acfe4bc4f>\u001b[0m in \u001b[0;36m<module>\u001b[0;34m()\u001b[0m\n\u001b[0;32m----> 1\u001b[0;31m \u001b[0mdfCombineFull\u001b[0m \u001b[0;34m=\u001b[0m \u001b[0mpd\u001b[0m\u001b[0;34m.\u001b[0m\u001b[0mDataFrame\u001b[0m\u001b[0;34m(\u001b[0m\u001b[0mcolumns\u001b[0m\u001b[0;34m=\u001b[0m\u001b[0mdf\u001b[0m\u001b[0;34m.\u001b[0m\u001b[0mcolumns\u001b[0m\u001b[0;34m)\u001b[0m\u001b[0;34m\u001b[0m\u001b[0m\n\u001b[0m\u001b[1;32m      2\u001b[0m \u001b[0;32mfor\u001b[0m \u001b[0mi\u001b[0m \u001b[0;32min\u001b[0m \u001b[0mrange\u001b[0m\u001b[0;34m(\u001b[0m\u001b[0;36m10\u001b[0m\u001b[0;34m,\u001b[0m\u001b[0;36m13\u001b[0m\u001b[0;34m)\u001b[0m\u001b[0;34m:\u001b[0m\u001b[0;34m\u001b[0m\u001b[0m\n\u001b[1;32m      3\u001b[0m     \u001b[0myear\u001b[0m\u001b[0;34m=\u001b[0m\u001b[0;34m\"20\"\u001b[0m\u001b[0;34m+\u001b[0m\u001b[0mformat\u001b[0m\u001b[0;34m(\u001b[0m\u001b[0mi\u001b[0m\u001b[0;34m,\u001b[0m\u001b[0;34m'02d'\u001b[0m\u001b[0;34m)\u001b[0m\u001b[0;34m+\u001b[0m\u001b[0;34m\"-\"\u001b[0m\u001b[0;34m+\u001b[0m\u001b[0mformat\u001b[0m\u001b[0;34m(\u001b[0m\u001b[0mi\u001b[0m\u001b[0;34m+\u001b[0m\u001b[0;36m1\u001b[0m\u001b[0;34m,\u001b[0m\u001b[0;34m'02d'\u001b[0m\u001b[0;34m)\u001b[0m\u001b[0;34m\u001b[0m\u001b[0m\n\u001b[1;32m      4\u001b[0m     \u001b[0mparams\u001b[0m\u001b[0;34m.\u001b[0m\u001b[0mupdate\u001b[0m\u001b[0;34m(\u001b[0m\u001b[0;34m{\u001b[0m\u001b[0;34m\"SeasonYear\"\u001b[0m\u001b[0;34m:\u001b[0m\u001b[0myear\u001b[0m\u001b[0;34m}\u001b[0m\u001b[0;34m)\u001b[0m\u001b[0;34m\u001b[0m\u001b[0m\n\u001b[1;32m      5\u001b[0m     \u001b[0mdf1\u001b[0m \u001b[0;34m=\u001b[0m \u001b[0mget_nba_data\u001b[0m\u001b[0;34m(\u001b[0m\u001b[0mendpt\u001b[0m\u001b[0;34m=\u001b[0m\u001b[0;34m\"draftcombinedrillresults\"\u001b[0m\u001b[0;34m,\u001b[0m\u001b[0mparams\u001b[0m\u001b[0;34m=\u001b[0m\u001b[0mparams\u001b[0m\u001b[0;34m)\u001b[0m\u001b[0;34m\u001b[0m\u001b[0m\n",
      "\u001b[0;31mNameError\u001b[0m: name 'df' is not defined"
     ]
    }
   ],
   "source": [
    "dfCombineFull = pd.DataFrame(columns=df.columns)\n",
    "for i in range(10,13):\n",
    "    year=\"20\"+format(i,'02d')+\"-\"+format(i+1,'02d')\n",
    "    params.update({\"SeasonYear\":year})\n",
    "    df1 = get_nba_data(endpt=\"draftcombinedrillresults\",params=params)\n",
    "    df2 = get_nba_data(endpt=\"draftcombineplayeranthro\",params=params)\n",
    "    dfMerged = pd.merge(df1,df2,on=\"PLAYER_ID\")\n",
    "\n",
    "    if(i>13):\n",
    "        dfMerged = pd.merge(df1,df2,on=\"TEMP_PLAYER_ID\")\n",
    "        dfMerged['PLAYER_NAME'] = dfMerged['PLAYER_NAME_x'] + \"(\" + year[0:4] + \")\"\n",
    "        dfMerged['PLAYER_ID']=dfMerged['PLAYER_NAME'].map(Player_ID_Dict)\n",
    "        dfMerged['PLAYER_ID']=pd.Series(dfMerged['PLAYER_ID'],dtype=str).str.split(\".\").str.get(0)\n",
    "\n",
    "    dfCombineFull = pd.concat([dfCombineFull,dfMerged])"
   ]
  },
  {
   "cell_type": "code",
   "execution_count": 7,
   "metadata": {},
   "outputs": [
    {
     "ename": "NameError",
     "evalue": "name 'dfCombineFull' is not defined",
     "output_type": "error",
     "traceback": [
      "\u001b[0;31m---------------------------------------------------------------------------\u001b[0m",
      "\u001b[0;31mNameError\u001b[0m                                 Traceback (most recent call last)",
      "\u001b[0;32m<ipython-input-7-3a87aff2ca5d>\u001b[0m in \u001b[0;36m<module>\u001b[0;34m()\u001b[0m\n\u001b[1;32m      1\u001b[0m \u001b[0;31m#dfCombineFull = dfCombineFull.set_index('PLAYER_ID')\u001b[0m\u001b[0;34m\u001b[0m\u001b[0;34m\u001b[0m\u001b[0m\n\u001b[0;32m----> 2\u001b[0;31m \u001b[0mdfCombineFull\u001b[0m\u001b[0;34m[\u001b[0m\u001b[0mdfCombineFull\u001b[0m\u001b[0;34m.\u001b[0m\u001b[0mLAST_NAME_x\u001b[0m\u001b[0;34m==\u001b[0m\u001b[0;34m\"Davis\"\u001b[0m\u001b[0;34m]\u001b[0m\u001b[0;34m\u001b[0m\u001b[0m\n\u001b[0m",
      "\u001b[0;31mNameError\u001b[0m: name 'dfCombineFull' is not defined"
     ]
    }
   ],
   "source": [
    "#dfCombineFull = dfCombineFull.set_index('PLAYER_ID')\n",
    "dfCombineFull[dfCombineFull.LAST_NAME_x==\"Davis\"]"
   ]
  },
  {
   "cell_type": "code",
   "execution_count": 127,
   "metadata": {
    "scrolled": true
   },
   "outputs": [
    {
     "ename": "IndexError",
     "evalue": "list index out of range",
     "output_type": "error",
     "traceback": [
      "\u001b[0;31m---------------------------------------------------------------------------\u001b[0m",
      "\u001b[0;31mIndexError\u001b[0m                                Traceback (most recent call last)",
      "\u001b[0;32m<ipython-input-127-f2058d1982e3>\u001b[0m in \u001b[0;36m<module>\u001b[0;34m()\u001b[0m\n\u001b[1;32m      8\u001b[0m           \u001b[0;34m'PerMode'\u001b[0m\u001b[0;34m:\u001b[0m\u001b[0;34m'Totals'\u001b[0m\u001b[0;34m,\u001b[0m\u001b[0;34m'SeasonSegment'\u001b[0m\u001b[0;34m:\u001b[0m\u001b[0;34m''\u001b[0m\u001b[0;34m\u001b[0m\u001b[0m\n\u001b[1;32m      9\u001b[0m          }\n\u001b[0;32m---> 10\u001b[0;31m \u001b[0mdfDefense\u001b[0m \u001b[0;34m=\u001b[0m \u001b[0mget_nba_data\u001b[0m\u001b[0;34m(\u001b[0m\u001b[0mendpt\u001b[0m\u001b[0;34m=\u001b[0m\u001b[0mendpt\u001b[0m\u001b[0;34m,\u001b[0m\u001b[0mparams\u001b[0m\u001b[0;34m=\u001b[0m\u001b[0mparams\u001b[0m\u001b[0;34m)\u001b[0m\u001b[0;34m\u001b[0m\u001b[0m\n\u001b[0m\u001b[1;32m     11\u001b[0m \u001b[0mdfDefense\u001b[0m\u001b[0;34m[\u001b[0m\u001b[0mdfDefense\u001b[0m\u001b[0;34m.\u001b[0m\u001b[0mDEFENSE_CATEGORY\u001b[0m\u001b[0;34m==\u001b[0m\u001b[0;34m\"Less Than 6 Ft\"\u001b[0m\u001b[0;34m]\u001b[0m\u001b[0;34m\u001b[0m\u001b[0m\n",
      "\u001b[0;32m<ipython-input-119-e6640e461958>\u001b[0m in \u001b[0;36mget_nba_data\u001b[0;34m(endpt, params, return_url)\u001b[0m\n\u001b[1;32m     14\u001b[0m     \u001b[0mjsonstr\u001b[0m \u001b[0;34m=\u001b[0m \u001b[0mget_ipython\u001b[0m\u001b[0;34m(\u001b[0m\u001b[0;34m)\u001b[0m\u001b[0;34m.\u001b[0m\u001b[0mgetoutput\u001b[0m\u001b[0;34m(\u001b[0m\u001b[0;34m'wget -q -O - --user-agent={useragent} {dataurl}'\u001b[0m\u001b[0;34m)\u001b[0m\u001b[0;34m\u001b[0m\u001b[0m\n\u001b[1;32m     15\u001b[0m \u001b[0;34m\u001b[0m\u001b[0m\n\u001b[0;32m---> 16\u001b[0;31m     \u001b[0mdata\u001b[0m \u001b[0;34m=\u001b[0m \u001b[0mjson\u001b[0m\u001b[0;34m.\u001b[0m\u001b[0mloads\u001b[0m\u001b[0;34m(\u001b[0m\u001b[0mjsonstr\u001b[0m\u001b[0;34m[\u001b[0m\u001b[0;36m0\u001b[0m\u001b[0;34m]\u001b[0m\u001b[0;34m)\u001b[0m\u001b[0;34m\u001b[0m\u001b[0m\n\u001b[0m\u001b[1;32m     17\u001b[0m \u001b[0;34m\u001b[0m\u001b[0m\n\u001b[1;32m     18\u001b[0m     \u001b[0mh\u001b[0m \u001b[0;34m=\u001b[0m \u001b[0mdata\u001b[0m\u001b[0;34m[\u001b[0m\u001b[0;34m'resultSets'\u001b[0m\u001b[0;34m]\u001b[0m\u001b[0;34m[\u001b[0m\u001b[0;36m0\u001b[0m\u001b[0;34m]\u001b[0m\u001b[0;34m[\u001b[0m\u001b[0;34m'headers'\u001b[0m\u001b[0;34m]\u001b[0m\u001b[0;34m\u001b[0m\u001b[0m\n",
      "\u001b[0;31mIndexError\u001b[0m: list index out of range"
     ]
    }
   ],
   "source": [
    "endpt = 'playerdashptshotdefend'\n",
    "params = {'DateFrom':'','DateTo':'','GameSegment':'',\n",
    "          'LastNGames':'0','LeagueID':'00','Location':'',\n",
    "          'Month':'0','OpponentTeamID':'0','Outcome':'',\n",
    "          'Period':'0','PlayerID':'0','Season':year,\n",
    "          'SeasonSemgent':'','SeasonType':'Regular Season',\n",
    "          'TeamID':'0','VsConference':'','VsDivision':'',\n",
    "          'PerMode':'Totals','SeasonSegment':''\n",
    "         }\n",
    "dfDefense = get_nba_data(endpt=endpt,params=params)\n",
    "dfDefense[dfDefense.DEFENSE_CATEGORY==\"Less Than 6 Ft\"]\n"
   ]
  },
  {
   "cell_type": "code",
   "execution_count": 11,
   "metadata": {
    "scrolled": true
   },
   "outputs": [
    {
     "ename": "NameError",
     "evalue": "name 'dfDefense' is not defined",
     "output_type": "error",
     "traceback": [
      "\u001b[0;31m---------------------------------------------------------------------------\u001b[0m",
      "\u001b[0;31mNameError\u001b[0m                                 Traceback (most recent call last)",
      "\u001b[0;32m<ipython-input-11-05aa6ecc51cc>\u001b[0m in \u001b[0;36m<module>\u001b[0;34m()\u001b[0m\n\u001b[0;32m----> 1\u001b[0;31m \u001b[0mdfDefense\u001b[0m \u001b[0;34m=\u001b[0m \u001b[0mdfDefense\u001b[0m\u001b[0;34m[\u001b[0m\u001b[0mdfDefense\u001b[0m\u001b[0;34m.\u001b[0m\u001b[0mDEFENSE_CATEGORY\u001b[0m\u001b[0;34m==\u001b[0m\u001b[0;34m\"Less Than 6 Ft\"\u001b[0m\u001b[0;34m]\u001b[0m\u001b[0;34m\u001b[0m\u001b[0m\n\u001b[0m\u001b[1;32m      2\u001b[0m \u001b[0mdfDefense\u001b[0m \u001b[0;34m=\u001b[0m \u001b[0mdfDefense\u001b[0m\u001b[0;34m.\u001b[0m\u001b[0mset_index\u001b[0m\u001b[0;34m(\u001b[0m\u001b[0;34m\"CLOSE_DEF_PERSON_ID\"\u001b[0m\u001b[0;34m)\u001b[0m\u001b[0;34m\u001b[0m\u001b[0m\n",
      "\u001b[0;31mNameError\u001b[0m: name 'dfDefense' is not defined"
     ]
    }
   ],
   "source": [
    "dfDefense = dfDefense[dfDefense.DEFENSE_CATEGORY==\"Less Than 6 Ft\"]\n",
    "dfDefense = dfDefense.set_index(\"CLOSE_DEF_PERSON_ID\")"
   ]
  },
  {
   "cell_type": "code",
   "execution_count": 12,
   "metadata": {
    "scrolled": true
   },
   "outputs": [
    {
     "ename": "NameError",
     "evalue": "name 'dfDefense' is not defined",
     "output_type": "error",
     "traceback": [
      "\u001b[0;31m---------------------------------------------------------------------------\u001b[0m",
      "\u001b[0;31mNameError\u001b[0m                                 Traceback (most recent call last)",
      "\u001b[0;32m<ipython-input-12-30b2bd85efbb>\u001b[0m in \u001b[0;36m<module>\u001b[0;34m()\u001b[0m\n\u001b[0;32m----> 1\u001b[0;31m \u001b[0mdfDefense_PCT_Change\u001b[0m \u001b[0;34m=\u001b[0m \u001b[0mpd\u001b[0m\u001b[0;34m.\u001b[0m\u001b[0mDataFrame\u001b[0m\u001b[0;34m(\u001b[0m\u001b[0mdfDefense\u001b[0m\u001b[0;34m.\u001b[0m\u001b[0mPCT_PLUSMINUS\u001b[0m\u001b[0;34m)\u001b[0m\u001b[0;34m\u001b[0m\u001b[0m\n\u001b[0m\u001b[1;32m      2\u001b[0m \u001b[0mdfDefense_PCT_Change\u001b[0m\u001b[0;34m\u001b[0m\u001b[0m\n",
      "\u001b[0;31mNameError\u001b[0m: name 'dfDefense' is not defined"
     ]
    }
   ],
   "source": [
    "dfDefense_PCT_Change = pd.DataFrame(dfDefense.PCT_PLUSMINUS)\n",
    "dfDefense_PCT_Change"
   ]
  },
  {
   "cell_type": "code",
   "execution_count": 13,
   "metadata": {
    "scrolled": true
   },
   "outputs": [
    {
     "ename": "NameError",
     "evalue": "name 'dfDefense_PCT_Change' is not defined",
     "output_type": "error",
     "traceback": [
      "\u001b[0;31m---------------------------------------------------------------------------\u001b[0m",
      "\u001b[0;31mNameError\u001b[0m                                 Traceback (most recent call last)",
      "\u001b[0;32m<ipython-input-13-78377b15b393>\u001b[0m in \u001b[0;36m<module>\u001b[0;34m()\u001b[0m\n\u001b[0;32m----> 1\u001b[0;31m \u001b[0mdfCombineFull\u001b[0m \u001b[0;34m=\u001b[0m \u001b[0mpd\u001b[0m\u001b[0;34m.\u001b[0m\u001b[0mmerge\u001b[0m\u001b[0;34m(\u001b[0m\u001b[0mdfCombineFull\u001b[0m\u001b[0;34m,\u001b[0m\u001b[0mdfDefense_PCT_Change\u001b[0m\u001b[0;34m,\u001b[0m\u001b[0mleft_index\u001b[0m\u001b[0;34m=\u001b[0m\u001b[0;32mTrue\u001b[0m\u001b[0;34m,\u001b[0m\u001b[0mright_index\u001b[0m\u001b[0;34m=\u001b[0m\u001b[0;32mTrue\u001b[0m\u001b[0;34m)\u001b[0m\u001b[0;34m\u001b[0m\u001b[0m\n\u001b[0m",
      "\u001b[0;31mNameError\u001b[0m: name 'dfDefense_PCT_Change' is not defined"
     ]
    }
   ],
   "source": [
    "dfCombineFull = pd.merge(dfCombineFull,dfDefense_PCT_Change,left_index=True,right_index=True)"
   ]
  },
  {
   "cell_type": "code",
   "execution_count": 14,
   "metadata": {},
   "outputs": [
    {
     "ename": "KeyError",
     "evalue": "'Column not found: PCT_PLUSMINUS'",
     "output_type": "error",
     "traceback": [
      "\u001b[0;31m---------------------------------------------------------------------------\u001b[0m",
      "\u001b[0;31mKeyError\u001b[0m                                  Traceback (most recent call last)",
      "\u001b[0;32m<ipython-input-14-542cdf7c72bb>\u001b[0m in \u001b[0;36m<module>\u001b[0;34m()\u001b[0m\n\u001b[0;32m----> 1\u001b[0;31m \u001b[0mdfCombineFull\u001b[0m\u001b[0;34m.\u001b[0m\u001b[0mgroupby\u001b[0m\u001b[0;34m(\u001b[0m\u001b[0;34m'WINGSPAN'\u001b[0m\u001b[0;34m)\u001b[0m\u001b[0;34m[\u001b[0m\u001b[0;34m'PCT_PLUSMINUS'\u001b[0m\u001b[0;34m]\u001b[0m\u001b[0;34m.\u001b[0m\u001b[0mmean\u001b[0m\u001b[0;34m(\u001b[0m\u001b[0;34m)\u001b[0m\u001b[0;34m\u001b[0m\u001b[0m\n\u001b[0m",
      "\u001b[0;32m~/anaconda3/lib/python3.6/site-packages/pandas/core/base.py\u001b[0m in \u001b[0;36m__getitem__\u001b[0;34m(self, key)\u001b[0m\n\u001b[1;32m    257\u001b[0m         \u001b[0;32melse\u001b[0m\u001b[0;34m:\u001b[0m\u001b[0;34m\u001b[0m\u001b[0m\n\u001b[1;32m    258\u001b[0m             \u001b[0;32mif\u001b[0m \u001b[0mkey\u001b[0m \u001b[0;32mnot\u001b[0m \u001b[0;32min\u001b[0m \u001b[0mself\u001b[0m\u001b[0;34m.\u001b[0m\u001b[0mobj\u001b[0m\u001b[0;34m:\u001b[0m\u001b[0;34m\u001b[0m\u001b[0m\n\u001b[0;32m--> 259\u001b[0;31m                 \u001b[0;32mraise\u001b[0m \u001b[0mKeyError\u001b[0m\u001b[0;34m(\u001b[0m\u001b[0;34m\"Column not found: {key}\"\u001b[0m\u001b[0;34m.\u001b[0m\u001b[0mformat\u001b[0m\u001b[0;34m(\u001b[0m\u001b[0mkey\u001b[0m\u001b[0;34m=\u001b[0m\u001b[0mkey\u001b[0m\u001b[0;34m)\u001b[0m\u001b[0;34m)\u001b[0m\u001b[0;34m\u001b[0m\u001b[0m\n\u001b[0m\u001b[1;32m    260\u001b[0m             \u001b[0;32mreturn\u001b[0m \u001b[0mself\u001b[0m\u001b[0;34m.\u001b[0m\u001b[0m_gotitem\u001b[0m\u001b[0;34m(\u001b[0m\u001b[0mkey\u001b[0m\u001b[0;34m,\u001b[0m \u001b[0mndim\u001b[0m\u001b[0;34m=\u001b[0m\u001b[0;36m1\u001b[0m\u001b[0;34m)\u001b[0m\u001b[0;34m\u001b[0m\u001b[0m\n\u001b[1;32m    261\u001b[0m \u001b[0;34m\u001b[0m\u001b[0m\n",
      "\u001b[0;31mKeyError\u001b[0m: 'Column not found: PCT_PLUSMINUS'"
     ]
    }
   ],
   "source": [
    "dfCombineFull.groupby('WINGSPAN')['PCT_PLUSMINUS'].mean()"
   ]
  },
  {
   "cell_type": "code",
   "execution_count": 15,
   "metadata": {},
   "outputs": [
    {
     "ename": "KeyError",
     "evalue": "'Column not found: PCT_PLUSMINUS'",
     "output_type": "error",
     "traceback": [
      "\u001b[0;31m---------------------------------------------------------------------------\u001b[0m",
      "\u001b[0;31mKeyError\u001b[0m                                  Traceback (most recent call last)",
      "\u001b[0;32m<ipython-input-15-b8495ec18d65>\u001b[0m in \u001b[0;36m<module>\u001b[0;34m()\u001b[0m\n\u001b[0;32m----> 1\u001b[0;31m \u001b[0mplt\u001b[0m\u001b[0;34m.\u001b[0m\u001b[0mplot\u001b[0m\u001b[0;34m(\u001b[0m\u001b[0mdfCombineFull\u001b[0m\u001b[0;34m.\u001b[0m\u001b[0mgroupby\u001b[0m\u001b[0;34m(\u001b[0m\u001b[0;34m'WINGSPAN'\u001b[0m\u001b[0;34m)\u001b[0m\u001b[0;34m[\u001b[0m\u001b[0;34m'PCT_PLUSMINUS'\u001b[0m\u001b[0;34m]\u001b[0m\u001b[0;34m.\u001b[0m\u001b[0mmean\u001b[0m\u001b[0;34m(\u001b[0m\u001b[0;34m)\u001b[0m\u001b[0;34m)\u001b[0m\u001b[0;34m\u001b[0m\u001b[0m\n\u001b[0m",
      "\u001b[0;32m~/anaconda3/lib/python3.6/site-packages/pandas/core/base.py\u001b[0m in \u001b[0;36m__getitem__\u001b[0;34m(self, key)\u001b[0m\n\u001b[1;32m    257\u001b[0m         \u001b[0;32melse\u001b[0m\u001b[0;34m:\u001b[0m\u001b[0;34m\u001b[0m\u001b[0m\n\u001b[1;32m    258\u001b[0m             \u001b[0;32mif\u001b[0m \u001b[0mkey\u001b[0m \u001b[0;32mnot\u001b[0m \u001b[0;32min\u001b[0m \u001b[0mself\u001b[0m\u001b[0;34m.\u001b[0m\u001b[0mobj\u001b[0m\u001b[0;34m:\u001b[0m\u001b[0;34m\u001b[0m\u001b[0m\n\u001b[0;32m--> 259\u001b[0;31m                 \u001b[0;32mraise\u001b[0m \u001b[0mKeyError\u001b[0m\u001b[0;34m(\u001b[0m\u001b[0;34m\"Column not found: {key}\"\u001b[0m\u001b[0;34m.\u001b[0m\u001b[0mformat\u001b[0m\u001b[0;34m(\u001b[0m\u001b[0mkey\u001b[0m\u001b[0;34m=\u001b[0m\u001b[0mkey\u001b[0m\u001b[0;34m)\u001b[0m\u001b[0;34m)\u001b[0m\u001b[0;34m\u001b[0m\u001b[0m\n\u001b[0m\u001b[1;32m    260\u001b[0m             \u001b[0;32mreturn\u001b[0m \u001b[0mself\u001b[0m\u001b[0;34m.\u001b[0m\u001b[0m_gotitem\u001b[0m\u001b[0;34m(\u001b[0m\u001b[0mkey\u001b[0m\u001b[0;34m,\u001b[0m \u001b[0mndim\u001b[0m\u001b[0;34m=\u001b[0m\u001b[0;36m1\u001b[0m\u001b[0;34m)\u001b[0m\u001b[0;34m\u001b[0m\u001b[0m\n\u001b[1;32m    261\u001b[0m \u001b[0;34m\u001b[0m\u001b[0m\n",
      "\u001b[0;31mKeyError\u001b[0m: 'Column not found: PCT_PLUSMINUS'"
     ]
    }
   ],
   "source": [
    "plt.plot(dfCombineFull.groupby('WINGSPAN')['PCT_PLUSMINUS'].mean())"
   ]
  },
  {
   "cell_type": "code",
   "execution_count": 16,
   "metadata": {},
   "outputs": [],
   "source": [
    "bins = list(range(70,98,2))\n",
    "dfCombineFull['Wingspan_binned']=pd.cut(dfCombineFull['WINGSPAN'],bins)"
   ]
  },
  {
   "cell_type": "code",
   "execution_count": 17,
   "metadata": {},
   "outputs": [
    {
     "name": "stderr",
     "output_type": "stream",
     "text": [
      "/home/dhoskins/.local/lib/python3.6/site-packages/ipykernel_launcher.py:2: SettingWithCopyWarning: \n",
      "A value is trying to be set on a copy of a slice from a DataFrame\n",
      "\n",
      "See the caveats in the documentation: http://pandas.pydata.org/pandas-docs/stable/indexing.html#indexing-view-versus-copy\n",
      "  \n",
      "/home/dhoskins/.local/lib/python3.6/site-packages/ipykernel_launcher.py:3: SettingWithCopyWarning: \n",
      "A value is trying to be set on a copy of a slice from a DataFrame\n",
      "\n",
      "See the caveats in the documentation: http://pandas.pydata.org/pandas-docs/stable/indexing.html#indexing-view-versus-copy\n",
      "  This is separate from the ipykernel package so we can avoid doing imports until\n",
      "/home/dhoskins/.local/lib/python3.6/site-packages/ipykernel_launcher.py:4: SettingWithCopyWarning: \n",
      "A value is trying to be set on a copy of a slice from a DataFrame\n",
      "\n",
      "See the caveats in the documentation: http://pandas.pydata.org/pandas-docs/stable/indexing.html#indexing-view-versus-copy\n",
      "  after removing the cwd from sys.path.\n",
      "/home/dhoskins/.local/lib/python3.6/site-packages/ipykernel_launcher.py:6: SettingWithCopyWarning: \n",
      "A value is trying to be set on a copy of a slice from a DataFrame\n",
      "\n",
      "See the caveats in the documentation: http://pandas.pydata.org/pandas-docs/stable/indexing.html#indexing-view-versus-copy\n",
      "  \n",
      "/home/dhoskins/.local/lib/python3.6/site-packages/ipykernel_launcher.py:7: SettingWithCopyWarning: \n",
      "A value is trying to be set on a copy of a slice from a DataFrame\n",
      "\n",
      "See the caveats in the documentation: http://pandas.pydata.org/pandas-docs/stable/indexing.html#indexing-view-versus-copy\n",
      "  import sys\n",
      "/home/dhoskins/.local/lib/python3.6/site-packages/ipykernel_launcher.py:8: SettingWithCopyWarning: \n",
      "A value is trying to be set on a copy of a slice from a DataFrame\n",
      "\n",
      "See the caveats in the documentation: http://pandas.pydata.org/pandas-docs/stable/indexing.html#indexing-view-versus-copy\n",
      "  \n",
      "/home/dhoskins/.local/lib/python3.6/site-packages/ipykernel_launcher.py:10: SettingWithCopyWarning: \n",
      "A value is trying to be set on a copy of a slice from a DataFrame\n",
      "\n",
      "See the caveats in the documentation: http://pandas.pydata.org/pandas-docs/stable/indexing.html#indexing-view-versus-copy\n",
      "  # Remove the CWD from sys.path while we load stuff.\n",
      "/home/dhoskins/.local/lib/python3.6/site-packages/ipykernel_launcher.py:11: SettingWithCopyWarning: \n",
      "A value is trying to be set on a copy of a slice from a DataFrame\n",
      "\n",
      "See the caveats in the documentation: http://pandas.pydata.org/pandas-docs/stable/indexing.html#indexing-view-versus-copy\n",
      "  # This is added back by InteractiveShellApp.init_path()\n",
      "/home/dhoskins/.local/lib/python3.6/site-packages/ipykernel_launcher.py:12: SettingWithCopyWarning: \n",
      "A value is trying to be set on a copy of a slice from a DataFrame\n",
      "\n",
      "See the caveats in the documentation: http://pandas.pydata.org/pandas-docs/stable/indexing.html#indexing-view-versus-copy\n",
      "  if sys.path[0] == '':\n",
      "/home/dhoskins/.local/lib/python3.6/site-packages/ipykernel_launcher.py:14: SettingWithCopyWarning: \n",
      "A value is trying to be set on a copy of a slice from a DataFrame\n",
      "\n",
      "See the caveats in the documentation: http://pandas.pydata.org/pandas-docs/stable/indexing.html#indexing-view-versus-copy\n",
      "  \n",
      "/home/dhoskins/.local/lib/python3.6/site-packages/ipykernel_launcher.py:15: SettingWithCopyWarning: \n",
      "A value is trying to be set on a copy of a slice from a DataFrame\n",
      "\n",
      "See the caveats in the documentation: http://pandas.pydata.org/pandas-docs/stable/indexing.html#indexing-view-versus-copy\n",
      "  from ipykernel import kernelapp as app\n",
      "/home/dhoskins/.local/lib/python3.6/site-packages/ipykernel_launcher.py:16: SettingWithCopyWarning: \n",
      "A value is trying to be set on a copy of a slice from a DataFrame\n",
      "\n",
      "See the caveats in the documentation: http://pandas.pydata.org/pandas-docs/stable/indexing.html#indexing-view-versus-copy\n",
      "  app.launch_new_instance()\n",
      "/home/dhoskins/.local/lib/python3.6/site-packages/ipykernel_launcher.py:17: SettingWithCopyWarning: \n",
      "A value is trying to be set on a copy of a slice from a DataFrame\n",
      "\n",
      "See the caveats in the documentation: http://pandas.pydata.org/pandas-docs/stable/indexing.html#indexing-view-versus-copy\n"
     ]
    },
    {
     "ename": "KeyError",
     "evalue": "'Column not found: PCT_PLUSMINUS'",
     "output_type": "error",
     "traceback": [
      "\u001b[0;31m---------------------------------------------------------------------------\u001b[0m",
      "\u001b[0;31mKeyError\u001b[0m                                  Traceback (most recent call last)",
      "\u001b[0;32m<ipython-input-17-2200decff001>\u001b[0m in \u001b[0;36m<module>\u001b[0;34m()\u001b[0m\n\u001b[1;32m     20\u001b[0m \u001b[0;34m\u001b[0m\u001b[0m\n\u001b[1;32m     21\u001b[0m \u001b[0;34m\u001b[0m\u001b[0m\n\u001b[0;32m---> 22\u001b[0;31m \u001b[0mdfCombineFull\u001b[0m\u001b[0;34m.\u001b[0m\u001b[0mgroupby\u001b[0m\u001b[0;34m(\u001b[0m\u001b[0;34m[\u001b[0m\u001b[0;34m'POSITION_SIMPLE'\u001b[0m\u001b[0;34m,\u001b[0m\u001b[0;34m'Wingspan_binned'\u001b[0m\u001b[0;34m]\u001b[0m\u001b[0;34m)\u001b[0m\u001b[0;34m[\u001b[0m\u001b[0;34m'PCT_PLUSMINUS'\u001b[0m\u001b[0;34m]\u001b[0m\u001b[0;34m.\u001b[0m\u001b[0mmean\u001b[0m\u001b[0;34m(\u001b[0m\u001b[0;34m)\u001b[0m\u001b[0;34m\u001b[0m\u001b[0m\n\u001b[0m",
      "\u001b[0;32m~/anaconda3/lib/python3.6/site-packages/pandas/core/base.py\u001b[0m in \u001b[0;36m__getitem__\u001b[0;34m(self, key)\u001b[0m\n\u001b[1;32m    257\u001b[0m         \u001b[0;32melse\u001b[0m\u001b[0;34m:\u001b[0m\u001b[0;34m\u001b[0m\u001b[0m\n\u001b[1;32m    258\u001b[0m             \u001b[0;32mif\u001b[0m \u001b[0mkey\u001b[0m \u001b[0;32mnot\u001b[0m \u001b[0;32min\u001b[0m \u001b[0mself\u001b[0m\u001b[0;34m.\u001b[0m\u001b[0mobj\u001b[0m\u001b[0;34m:\u001b[0m\u001b[0;34m\u001b[0m\u001b[0m\n\u001b[0;32m--> 259\u001b[0;31m                 \u001b[0;32mraise\u001b[0m \u001b[0mKeyError\u001b[0m\u001b[0;34m(\u001b[0m\u001b[0;34m\"Column not found: {key}\"\u001b[0m\u001b[0;34m.\u001b[0m\u001b[0mformat\u001b[0m\u001b[0;34m(\u001b[0m\u001b[0mkey\u001b[0m\u001b[0;34m=\u001b[0m\u001b[0mkey\u001b[0m\u001b[0;34m)\u001b[0m\u001b[0;34m)\u001b[0m\u001b[0;34m\u001b[0m\u001b[0m\n\u001b[0m\u001b[1;32m    260\u001b[0m             \u001b[0;32mreturn\u001b[0m \u001b[0mself\u001b[0m\u001b[0;34m.\u001b[0m\u001b[0m_gotitem\u001b[0m\u001b[0;34m(\u001b[0m\u001b[0mkey\u001b[0m\u001b[0;34m,\u001b[0m \u001b[0mndim\u001b[0m\u001b[0;34m=\u001b[0m\u001b[0;36m1\u001b[0m\u001b[0;34m)\u001b[0m\u001b[0;34m\u001b[0m\u001b[0m\n\u001b[1;32m    261\u001b[0m \u001b[0;34m\u001b[0m\u001b[0m\n",
      "\u001b[0;31mKeyError\u001b[0m: 'Column not found: PCT_PLUSMINUS'"
     ]
    }
   ],
   "source": [
    "dfCombineFull['POSITION_SIMPLE']=np.NaN\n",
    "dfCombineFull['POSITION_SIMPLE'][dfCombineFull.POSITION_y==\"C\"]=\"Big\"\n",
    "dfCombineFull['POSITION_SIMPLE'][dfCombineFull.POSITION_y==\"C-PF\"]=\"Big\"\n",
    "dfCombineFull['POSITION_SIMPLE'][dfCombineFull.POSITION_y==\"PF-C\"]=\"Big\"\n",
    "\n",
    "dfCombineFull['POSITION_SIMPLE'][dfCombineFull.POSITION_y==\"PF\"]=\"Forward\"\n",
    "dfCombineFull['POSITION_SIMPLE'][dfCombineFull.POSITION_y==\"SF-PF\"]=\"Forward\"\n",
    "dfCombineFull['POSITION_SIMPLE'][dfCombineFull.POSITION_y==\"PF-SF\"]=\"Forward\"\n",
    "\n",
    "dfCombineFull['POSITION_SIMPLE'][dfCombineFull.POSITION_y==\"SF\"]=\"Wing\"\n",
    "dfCombineFull['POSITION_SIMPLE'][dfCombineFull.POSITION_y==\"SF-SG\"]=\"Wing\"\n",
    "dfCombineFull['POSITION_SIMPLE'][dfCombineFull.POSITION_y==\"SG-SF\"]=\"Wing\"\n",
    "\n",
    "dfCombineFull['POSITION_SIMPLE'][dfCombineFull.POSITION_y==\"SG\"]=\"Guard\"\n",
    "dfCombineFull['POSITION_SIMPLE'][dfCombineFull.POSITION_y==\"PG-SG\"]=\"Guard\"\n",
    "dfCombineFull['POSITION_SIMPLE'][dfCombineFull.POSITION_y==\"SG-PG\"]=\"Guard\"\n",
    "dfCombineFull['POSITION_SIMPLE'][dfCombineFull.POSITION_y==\"PG\"]=\"Guard\"\n",
    "\n",
    "\n",
    "\n",
    "\n",
    "dfCombineFull.groupby(['POSITION_SIMPLE','Wingspan_binned'])['PCT_PLUSMINUS'].mean()\n"
   ]
  },
  {
   "cell_type": "code",
   "execution_count": null,
   "metadata": {},
   "outputs": [],
   "source": [
    "plt.scatter(dfCombineFull['THREE_QUARTER_SPRINT'],dfCombineFull['PCT_PLUSMINUS'])"
   ]
  },
  {
   "cell_type": "code",
   "execution_count": null,
   "metadata": {},
   "outputs": [],
   "source": [
    "dfCombineFull.columns"
   ]
  },
  {
   "cell_type": "markdown",
   "metadata": {},
   "source": [
    "Tomorrow we should work on a simple linear regression from this.\n",
    "We should also start adding in college status\n",
    "Need to do data from multiple years/figure out what we want to do regarding that\n",
    "    averages over full career\n",
    "    best year\n",
    "    three years out?\n",
    "    three year average?"
   ]
  },
  {
   "cell_type": "code",
   "execution_count": 8,
   "metadata": {},
   "outputs": [
    {
     "ename": "NameError",
     "evalue": "name 'i' is not defined",
     "output_type": "error",
     "traceback": [
      "\u001b[0;31m---------------------------------------------------------------------------\u001b[0m",
      "\u001b[0;31mNameError\u001b[0m                                 Traceback (most recent call last)",
      "\u001b[0;32m<ipython-input-8-fbe840b21862>\u001b[0m in \u001b[0;36m<module>\u001b[0;34m()\u001b[0m\n\u001b[1;32m      1\u001b[0m \u001b[0myear\u001b[0m \u001b[0;34m=\u001b[0m \u001b[0;36m16\u001b[0m\u001b[0;34m\u001b[0m\u001b[0m\n\u001b[0;32m----> 2\u001b[0;31m \u001b[0myear\u001b[0m\u001b[0;34m=\u001b[0m\u001b[0;34m\"20\"\u001b[0m\u001b[0;34m+\u001b[0m\u001b[0mformat\u001b[0m\u001b[0;34m(\u001b[0m\u001b[0mi\u001b[0m\u001b[0;34m,\u001b[0m\u001b[0;34m'02d'\u001b[0m\u001b[0;34m)\u001b[0m\u001b[0;34m+\u001b[0m\u001b[0;34m\"-\"\u001b[0m\u001b[0;34m+\u001b[0m\u001b[0mformat\u001b[0m\u001b[0;34m(\u001b[0m\u001b[0mi\u001b[0m\u001b[0;34m+\u001b[0m\u001b[0;36m1\u001b[0m\u001b[0;34m,\u001b[0m\u001b[0;34m'02d'\u001b[0m\u001b[0;34m)\u001b[0m\u001b[0;34m\u001b[0m\u001b[0m\n\u001b[0m\u001b[1;32m      3\u001b[0m \u001b[0mparams\u001b[0m\u001b[0;34m.\u001b[0m\u001b[0mupdate\u001b[0m\u001b[0;34m(\u001b[0m\u001b[0;34m{\u001b[0m\u001b[0;34m\"SeasonYear\"\u001b[0m\u001b[0;34m:\u001b[0m\u001b[0myear\u001b[0m\u001b[0;34m}\u001b[0m\u001b[0;34m)\u001b[0m\u001b[0;34m\u001b[0m\u001b[0m\n\u001b[1;32m      4\u001b[0m \u001b[0mdf1\u001b[0m \u001b[0;34m=\u001b[0m \u001b[0mget_nba_data\u001b[0m\u001b[0;34m(\u001b[0m\u001b[0mendpt\u001b[0m\u001b[0;34m=\u001b[0m\u001b[0;34m\"draftcombinedrillresults\"\u001b[0m\u001b[0;34m,\u001b[0m\u001b[0mparams\u001b[0m\u001b[0;34m=\u001b[0m\u001b[0mparams\u001b[0m\u001b[0;34m)\u001b[0m\u001b[0;34m\u001b[0m\u001b[0m\n\u001b[1;32m      5\u001b[0m \u001b[0mdf2\u001b[0m \u001b[0;34m=\u001b[0m \u001b[0mget_nba_data\u001b[0m\u001b[0;34m(\u001b[0m\u001b[0mendpt\u001b[0m\u001b[0;34m=\u001b[0m\u001b[0;34m\"draftcombineplayeranthro\"\u001b[0m\u001b[0;34m,\u001b[0m\u001b[0mparams\u001b[0m\u001b[0;34m=\u001b[0m\u001b[0mparams\u001b[0m\u001b[0;34m)\u001b[0m\u001b[0;34m\u001b[0m\u001b[0m\n",
      "\u001b[0;31mNameError\u001b[0m: name 'i' is not defined"
     ]
    }
   ],
   "source": [
    "year = 16\n",
    "year=\"20\"+format(i,'02d')+\"-\"+format(i+1,'02d')\n",
    "params.update({\"SeasonYear\":year})\n",
    "df1 = get_nba_data(endpt=\"draftcombinedrillresults\",params=params)\n",
    "df2 = get_nba_data(endpt=\"draftcombineplayeranthro\",params=params)\n",
    "if(i>13):\n",
    "    dfMerged = pd.merge(df1,df2,on=\"TEMP_PLAYER_ID\")\n",
    "    \n",
    "dfMerged['PLAYER_NAME'] = dfMerged['PLAYER_NAME_x'] + \"(\" + year[0:4] + \")\"\n",
    "dfMerged['PLAYER_ID']=dfMerged['PLAYER_NAME'].map(Player_ID_Dict)\n",
    "dfMerged['PLAYER_ID']=pd.Series(dfMerged['PLAYER_ID'],dtype=str).str.split(\".\").str.get(0)\n",
    "\n",
    "\n",
    "dfCombineFull = pd.concat([dfCombineFull,dfMerged])\n",
    "dfMerged"
   ]
  },
  {
   "cell_type": "code",
   "execution_count": 9,
   "metadata": {},
   "outputs": [
    {
     "ename": "NameError",
     "evalue": "name 'Player_ID_Dict' is not defined",
     "output_type": "error",
     "traceback": [
      "\u001b[0;31m---------------------------------------------------------------------------\u001b[0m",
      "\u001b[0;31mNameError\u001b[0m                                 Traceback (most recent call last)",
      "\u001b[0;32m<ipython-input-9-37a99568cf83>\u001b[0m in \u001b[0;36m<module>\u001b[0;34m()\u001b[0m\n\u001b[0;32m----> 1\u001b[0;31m \u001b[0mPlayer_ID_Dict\u001b[0m \u001b[0;34m=\u001b[0m \u001b[0mPlayer_ID_Dict\u001b[0m\u001b[0;34m.\u001b[0m\u001b[0mloc\u001b[0m\u001b[0;34m[\u001b[0m\u001b[0;34m~\u001b[0m\u001b[0mPlayer_ID_Dict\u001b[0m\u001b[0;34m.\u001b[0m\u001b[0mindex\u001b[0m\u001b[0;34m.\u001b[0m\u001b[0mduplicated\u001b[0m\u001b[0;34m(\u001b[0m\u001b[0mkeep\u001b[0m\u001b[0;34m=\u001b[0m\u001b[0;34m'first'\u001b[0m\u001b[0;34m)\u001b[0m\u001b[0;34m]\u001b[0m\u001b[0;34m\u001b[0m\u001b[0m\n\u001b[0m",
      "\u001b[0;31mNameError\u001b[0m: name 'Player_ID_Dict' is not defined"
     ]
    }
   ],
   "source": [
    "Player_ID_Dict = Player_ID_Dict.loc[~Player_ID_Dict.index.duplicated(keep='first')]"
   ]
  },
  {
   "cell_type": "code",
   "execution_count": 10,
   "metadata": {},
   "outputs": [
    {
     "ename": "NameError",
     "evalue": "name 'Player_ID_Dict' is not defined",
     "output_type": "error",
     "traceback": [
      "\u001b[0;31m---------------------------------------------------------------------------\u001b[0m",
      "\u001b[0;31mNameError\u001b[0m                                 Traceback (most recent call last)",
      "\u001b[0;32m<ipython-input-10-9db9da726400>\u001b[0m in \u001b[0;36m<module>\u001b[0;34m()\u001b[0m\n\u001b[0;32m----> 1\u001b[0;31m \u001b[0mPlayer_ID_Dict\u001b[0m\u001b[0;34m[\u001b[0m\u001b[0;34m'Anthony Davis(20)'\u001b[0m\u001b[0;34m]\u001b[0m\u001b[0;34m\u001b[0m\u001b[0m\n\u001b[0m",
      "\u001b[0;31mNameError\u001b[0m: name 'Player_ID_Dict' is not defined"
     ]
    }
   ],
   "source": [
    "Player_ID_Dict['Anthony Davis(20)']"
   ]
  },
  {
   "cell_type": "markdown",
   "metadata": {},
   "source": [
    "Going to start pulling college stats from bball ref but might get my IP banned which is less than ideal."
   ]
  },
  {
   "cell_type": "code",
   "execution_count": 11,
   "metadata": {},
   "outputs": [
    {
     "ename": "NameError",
     "evalue": "name 'dfCombineFull' is not defined",
     "output_type": "error",
     "traceback": [
      "\u001b[0;31m---------------------------------------------------------------------------\u001b[0m",
      "\u001b[0;31mNameError\u001b[0m                                 Traceback (most recent call last)",
      "\u001b[0;32m<ipython-input-11-02a32ef7e401>\u001b[0m in \u001b[0;36m<module>\u001b[0;34m()\u001b[0m\n\u001b[1;32m      1\u001b[0m \u001b[0mnameList\u001b[0m \u001b[0;34m=\u001b[0m \u001b[0;34m[\u001b[0m\u001b[0;34m]\u001b[0m\u001b[0;34m\u001b[0m\u001b[0m\n\u001b[0;32m----> 2\u001b[0;31m \u001b[0;32mfor\u001b[0m \u001b[0mplayer\u001b[0m \u001b[0;32min\u001b[0m \u001b[0mdfCombineFull\u001b[0m\u001b[0;34m.\u001b[0m\u001b[0mindex\u001b[0m\u001b[0;34m:\u001b[0m\u001b[0;34m\u001b[0m\u001b[0m\n\u001b[0m\u001b[1;32m      3\u001b[0m     \u001b[0mnameStr\u001b[0m \u001b[0;34m=\u001b[0m \u001b[0;34m'https://www.sports-reference.com/cbb/players/'\u001b[0m\u001b[0;34m\u001b[0m\u001b[0m\n\u001b[1;32m      4\u001b[0m \u001b[0;34m\u001b[0m\u001b[0m\n\u001b[1;32m      5\u001b[0m     \u001b[0mnameStr\u001b[0m \u001b[0;34m+=\u001b[0m \u001b[0mstr\u001b[0m\u001b[0;34m(\u001b[0m\u001b[0mdfCombineFull\u001b[0m\u001b[0;34m.\u001b[0m\u001b[0mFIRST_NAME_x\u001b[0m\u001b[0;34m[\u001b[0m\u001b[0mplayer\u001b[0m\u001b[0;34m]\u001b[0m\u001b[0;34m)\u001b[0m\u001b[0;34m.\u001b[0m\u001b[0mlower\u001b[0m\u001b[0;34m(\u001b[0m\u001b[0;34m)\u001b[0m \u001b[0;34m+\u001b[0m\u001b[0;34m\"-\"\u001b[0m \u001b[0;34m+\u001b[0m                 \u001b[0mstr\u001b[0m\u001b[0;34m(\u001b[0m\u001b[0mdfCombineFull\u001b[0m\u001b[0;34m.\u001b[0m\u001b[0mLAST_NAME_x\u001b[0m\u001b[0;34m[\u001b[0m\u001b[0mplayer\u001b[0m\u001b[0;34m]\u001b[0m\u001b[0;34m)\u001b[0m\u001b[0;34m.\u001b[0m\u001b[0mlower\u001b[0m\u001b[0;34m(\u001b[0m\u001b[0;34m)\u001b[0m \u001b[0;34m+\u001b[0m \u001b[0;34m\"-1.html\"\u001b[0m\u001b[0;34m\u001b[0m\u001b[0m\n",
      "\u001b[0;31mNameError\u001b[0m: name 'dfCombineFull' is not defined"
     ]
    }
   ],
   "source": [
    "nameList = []\n",
    "for player in dfCombineFull.index:\n",
    "    nameStr = 'https://www.sports-reference.com/cbb/players/'\n",
    "    \n",
    "    nameStr += str(dfCombineFull.FIRST_NAME_x[player]).lower() +\"-\" + \\\n",
    "                str(dfCombineFull.LAST_NAME_x[player]).lower() + \"-1.html\"\n",
    "    \n",
    "    nameList.append(nameStr)"
   ]
  },
  {
   "cell_type": "code",
   "execution_count": 12,
   "metadata": {},
   "outputs": [],
   "source": [
    "testCase = 'https://www.sports-reference.com/cbb/players/deandre-ayton-1.html'"
   ]
  },
  {
   "cell_type": "code",
   "execution_count": 13,
   "metadata": {},
   "outputs": [],
   "source": [
    "data_url = 'https://www.sports-reference.com/cbb/players/malcolm-brogdon-1.html'\n",
    "user_agent = \"\\\"Mozilla/5.0 (Macintosh; Intel Mac OS X 10_11_2) AppleWebKit/601.3.9 (KHTML, like Gecko) Version/9.0.2 Safari/601.3.9\\\"\"\n",
    "\n",
    "headers = {'User-Agent':user_agent}\n",
    "page = requests.get(data_url,headers=headers)\n",
    "tree = html.fromstring(page.content)"
   ]
  },
  {
   "cell_type": "code",
   "execution_count": 14,
   "metadata": {},
   "outputs": [
    {
     "data": {
      "text/plain": [
       "['Virginia',\n",
       " '136',\n",
       " '109',\n",
       " '4157',\n",
       " '9.6',\n",
       " '22.3',\n",
       " '.430',\n",
       " '6.6',\n",
       " '14.2',\n",
       " '.466',\n",
       " '2.9',\n",
       " '8.1',\n",
       " '.365',\n",
       " '6.7',\n",
       " '7.7',\n",
       " '.876',\n",
       " '9.0',\n",
       " '5.3',\n",
       " '1.9',\n",
       " '0.5',\n",
       " '3.3',\n",
       " '4.0',\n",
       " '28.8',\n",
       " '114.9',\n",
       " '94.0']"
      ]
     },
     "execution_count": 14,
     "metadata": {},
     "output_type": "execute_result"
    }
   ],
   "source": [
    "\n",
    "x = tree.xpath('//div[@id=\"all_players_per_poss\"]')\n",
    "n = len(str(x[0].getchildren()[-1]))\n",
    "\n",
    "tree2 = html.fromstring(str(x[0].getchildren()[-1])[6:(n-3)])\n",
    "tree2.xpath('//table/tfoot/tr/td/text()')"
   ]
  },
  {
   "cell_type": "code",
   "execution_count": 15,
   "metadata": {},
   "outputs": [
    {
     "data": {
      "text/plain": [
       "[]"
      ]
     },
     "execution_count": 15,
     "metadata": {},
     "output_type": "execute_result"
    }
   ],
   "source": [
    "x = tree.xpath('//div[@id=\"all_leaderboard\"]')\n",
    "n = len(str(x[0].getchildren()[-1]))\n",
    "\n",
    "tree2 = html.fromstring(str(x[0].getchildren()[-1])[6:(n-3)])\n",
    "tree2.xpath('//table/tr/td/a/text')"
   ]
  },
  {
   "cell_type": "code",
   "execution_count": 16,
   "metadata": {},
   "outputs": [
    {
     "ename": "NameError",
     "evalue": "name 'soup' is not defined",
     "output_type": "error",
     "traceback": [
      "\u001b[0;31m---------------------------------------------------------------------------\u001b[0m",
      "\u001b[0;31mNameError\u001b[0m                                 Traceback (most recent call last)",
      "\u001b[0;32m<ipython-input-16-1f3cf28e74be>\u001b[0m in \u001b[0;36m<module>\u001b[0;34m()\u001b[0m\n\u001b[0;32m----> 1\u001b[0;31m \u001b[0mx\u001b[0m \u001b[0;34m=\u001b[0m \u001b[0msoup\u001b[0m\u001b[0;34m.\u001b[0m\u001b[0mfind_all\u001b[0m\u001b[0;34m(\u001b[0m\u001b[0;34m'td'\u001b[0m\u001b[0;34m)\u001b[0m\u001b[0;34m\u001b[0m\u001b[0m\n\u001b[0m",
      "\u001b[0;31mNameError\u001b[0m: name 'soup' is not defined"
     ]
    }
   ],
   "source": [
    "x = soup.find_all('td')"
   ]
  },
  {
   "cell_type": "code",
   "execution_count": 17,
   "metadata": {},
   "outputs": [
    {
     "ename": "SyntaxError",
     "evalue": "invalid syntax (<ipython-input-17-fc43eab94dfd>, line 1)",
     "output_type": "error",
     "traceback": [
      "\u001b[0;36m  File \u001b[0;32m\"<ipython-input-17-fc43eab94dfd>\"\u001b[0;36m, line \u001b[0;32m1\u001b[0m\n\u001b[0;31m    (/*[@id=\"all_leaderboard\"])\u001b[0m\n\u001b[0m     ^\u001b[0m\n\u001b[0;31mSyntaxError\u001b[0m\u001b[0;31m:\u001b[0m invalid syntax\n"
     ]
    }
   ],
   "source": [
    "//*[@id=\"all_leaderboard\"]"
   ]
  },
  {
   "cell_type": "code",
   "execution_count": 18,
   "metadata": {},
   "outputs": [
    {
     "data": {
      "text/plain": [
       "[]"
      ]
     },
     "execution_count": 18,
     "metadata": {},
     "output_type": "execute_result"
    }
   ],
   "source": [
    "nameList"
   ]
  },
  {
   "cell_type": "code",
   "execution_count": 19,
   "metadata": {},
   "outputs": [
    {
     "ename": "JSONDecodeError",
     "evalue": "Expecting value: line 1 column 1 (char 0)",
     "output_type": "error",
     "traceback": [
      "\u001b[0;31m---------------------------------------------------------------------------\u001b[0m",
      "\u001b[0;31mJSONDecodeError\u001b[0m                           Traceback (most recent call last)",
      "\u001b[0;32m<ipython-input-19-53eefd88cd1b>\u001b[0m in \u001b[0;36m<module>\u001b[0;34m()\u001b[0m\n\u001b[1;32m      3\u001b[0m \u001b[0myear\u001b[0m\u001b[0;34m=\u001b[0m\u001b[0;34m\"20\"\u001b[0m\u001b[0;34m+\u001b[0m\u001b[0mformat\u001b[0m\u001b[0;34m(\u001b[0m\u001b[0mi\u001b[0m\u001b[0;34m,\u001b[0m\u001b[0;34m'02d'\u001b[0m\u001b[0;34m)\u001b[0m\u001b[0;34m+\u001b[0m\u001b[0;34m\"-\"\u001b[0m\u001b[0;34m+\u001b[0m\u001b[0mformat\u001b[0m\u001b[0;34m(\u001b[0m\u001b[0mi\u001b[0m\u001b[0;34m+\u001b[0m\u001b[0;36m1\u001b[0m\u001b[0;34m,\u001b[0m\u001b[0;34m'02d'\u001b[0m\u001b[0;34m)\u001b[0m\u001b[0;34m\u001b[0m\u001b[0m\n\u001b[1;32m      4\u001b[0m \u001b[0mparams\u001b[0m\u001b[0;34m.\u001b[0m\u001b[0mupdate\u001b[0m\u001b[0;34m(\u001b[0m\u001b[0;34m{\u001b[0m\u001b[0;34m\"SeasonYear\"\u001b[0m\u001b[0;34m:\u001b[0m\u001b[0myear\u001b[0m\u001b[0;34m}\u001b[0m\u001b[0;34m)\u001b[0m\u001b[0;34m\u001b[0m\u001b[0m\n\u001b[0;32m----> 5\u001b[0;31m \u001b[0mdf1\u001b[0m \u001b[0;34m=\u001b[0m \u001b[0mget_nba_data\u001b[0m\u001b[0;34m(\u001b[0m\u001b[0mendpt\u001b[0m\u001b[0;34m=\u001b[0m\u001b[0;34m\"draftcombinedrillresults\"\u001b[0m\u001b[0;34m,\u001b[0m\u001b[0mparams\u001b[0m\u001b[0;34m=\u001b[0m\u001b[0mparams\u001b[0m\u001b[0;34m)\u001b[0m\u001b[0;34m\u001b[0m\u001b[0m\n\u001b[0m\u001b[1;32m      6\u001b[0m \u001b[0mdf2\u001b[0m \u001b[0;34m=\u001b[0m \u001b[0mget_nba_data\u001b[0m\u001b[0;34m(\u001b[0m\u001b[0mendpt\u001b[0m\u001b[0;34m=\u001b[0m\u001b[0;34m\"draftcombineplayeranthro\"\u001b[0m\u001b[0;34m,\u001b[0m\u001b[0mparams\u001b[0m\u001b[0;34m=\u001b[0m\u001b[0mparams\u001b[0m\u001b[0;34m)\u001b[0m\u001b[0;34m\u001b[0m\u001b[0m\n\u001b[1;32m      7\u001b[0m \u001b[0;34m\u001b[0m\u001b[0m\n",
      "\u001b[0;32m<ipython-input-4-8c8bceb1dd9a>\u001b[0m in \u001b[0;36mget_nba_data\u001b[0;34m(endpt, params, return_url)\u001b[0m\n\u001b[1;32m     14\u001b[0m     \u001b[0mjsonstr\u001b[0m \u001b[0;34m=\u001b[0m \u001b[0mget_ipython\u001b[0m\u001b[0;34m(\u001b[0m\u001b[0;34m)\u001b[0m\u001b[0;34m.\u001b[0m\u001b[0mgetoutput\u001b[0m\u001b[0;34m(\u001b[0m\u001b[0;34m'wget -q -O - --user-agent={useragent} {dataurl}'\u001b[0m\u001b[0;34m)\u001b[0m\u001b[0;34m\u001b[0m\u001b[0m\n\u001b[1;32m     15\u001b[0m \u001b[0;34m\u001b[0m\u001b[0m\n\u001b[0;32m---> 16\u001b[0;31m     \u001b[0mdata\u001b[0m \u001b[0;34m=\u001b[0m \u001b[0mjson\u001b[0m\u001b[0;34m.\u001b[0m\u001b[0mloads\u001b[0m\u001b[0;34m(\u001b[0m\u001b[0mjsonstr\u001b[0m\u001b[0;34m[\u001b[0m\u001b[0;36m0\u001b[0m\u001b[0;34m]\u001b[0m\u001b[0;34m)\u001b[0m\u001b[0;34m\u001b[0m\u001b[0m\n\u001b[0m\u001b[1;32m     17\u001b[0m \u001b[0;34m\u001b[0m\u001b[0m\n\u001b[1;32m     18\u001b[0m     \u001b[0mh\u001b[0m \u001b[0;34m=\u001b[0m \u001b[0mdata\u001b[0m\u001b[0;34m[\u001b[0m\u001b[0;34m'resultSets'\u001b[0m\u001b[0;34m]\u001b[0m\u001b[0;34m[\u001b[0m\u001b[0;36m0\u001b[0m\u001b[0;34m]\u001b[0m\u001b[0;34m[\u001b[0m\u001b[0;34m'headers'\u001b[0m\u001b[0;34m]\u001b[0m\u001b[0;34m\u001b[0m\u001b[0m\n",
      "\u001b[0;32m~/anaconda3/lib/python3.6/json/__init__.py\u001b[0m in \u001b[0;36mloads\u001b[0;34m(s, encoding, cls, object_hook, parse_float, parse_int, parse_constant, object_pairs_hook, **kw)\u001b[0m\n\u001b[1;32m    352\u001b[0m             \u001b[0mparse_int\u001b[0m \u001b[0;32mis\u001b[0m \u001b[0;32mNone\u001b[0m \u001b[0;32mand\u001b[0m \u001b[0mparse_float\u001b[0m \u001b[0;32mis\u001b[0m \u001b[0;32mNone\u001b[0m \u001b[0;32mand\u001b[0m\u001b[0;34m\u001b[0m\u001b[0m\n\u001b[1;32m    353\u001b[0m             parse_constant is None and object_pairs_hook is None and not kw):\n\u001b[0;32m--> 354\u001b[0;31m         \u001b[0;32mreturn\u001b[0m \u001b[0m_default_decoder\u001b[0m\u001b[0;34m.\u001b[0m\u001b[0mdecode\u001b[0m\u001b[0;34m(\u001b[0m\u001b[0ms\u001b[0m\u001b[0;34m)\u001b[0m\u001b[0;34m\u001b[0m\u001b[0m\n\u001b[0m\u001b[1;32m    355\u001b[0m     \u001b[0;32mif\u001b[0m \u001b[0mcls\u001b[0m \u001b[0;32mis\u001b[0m \u001b[0;32mNone\u001b[0m\u001b[0;34m:\u001b[0m\u001b[0;34m\u001b[0m\u001b[0m\n\u001b[1;32m    356\u001b[0m         \u001b[0mcls\u001b[0m \u001b[0;34m=\u001b[0m \u001b[0mJSONDecoder\u001b[0m\u001b[0;34m\u001b[0m\u001b[0m\n",
      "\u001b[0;32m~/anaconda3/lib/python3.6/json/decoder.py\u001b[0m in \u001b[0;36mdecode\u001b[0;34m(self, s, _w)\u001b[0m\n\u001b[1;32m    337\u001b[0m \u001b[0;34m\u001b[0m\u001b[0m\n\u001b[1;32m    338\u001b[0m         \"\"\"\n\u001b[0;32m--> 339\u001b[0;31m         \u001b[0mobj\u001b[0m\u001b[0;34m,\u001b[0m \u001b[0mend\u001b[0m \u001b[0;34m=\u001b[0m \u001b[0mself\u001b[0m\u001b[0;34m.\u001b[0m\u001b[0mraw_decode\u001b[0m\u001b[0;34m(\u001b[0m\u001b[0ms\u001b[0m\u001b[0;34m,\u001b[0m \u001b[0midx\u001b[0m\u001b[0;34m=\u001b[0m\u001b[0m_w\u001b[0m\u001b[0;34m(\u001b[0m\u001b[0ms\u001b[0m\u001b[0;34m,\u001b[0m \u001b[0;36m0\u001b[0m\u001b[0;34m)\u001b[0m\u001b[0;34m.\u001b[0m\u001b[0mend\u001b[0m\u001b[0;34m(\u001b[0m\u001b[0;34m)\u001b[0m\u001b[0;34m)\u001b[0m\u001b[0;34m\u001b[0m\u001b[0m\n\u001b[0m\u001b[1;32m    340\u001b[0m         \u001b[0mend\u001b[0m \u001b[0;34m=\u001b[0m \u001b[0m_w\u001b[0m\u001b[0;34m(\u001b[0m\u001b[0ms\u001b[0m\u001b[0;34m,\u001b[0m \u001b[0mend\u001b[0m\u001b[0;34m)\u001b[0m\u001b[0;34m.\u001b[0m\u001b[0mend\u001b[0m\u001b[0;34m(\u001b[0m\u001b[0;34m)\u001b[0m\u001b[0;34m\u001b[0m\u001b[0m\n\u001b[1;32m    341\u001b[0m         \u001b[0;32mif\u001b[0m \u001b[0mend\u001b[0m \u001b[0;34m!=\u001b[0m \u001b[0mlen\u001b[0m\u001b[0;34m(\u001b[0m\u001b[0ms\u001b[0m\u001b[0;34m)\u001b[0m\u001b[0;34m:\u001b[0m\u001b[0;34m\u001b[0m\u001b[0m\n",
      "\u001b[0;32m~/anaconda3/lib/python3.6/json/decoder.py\u001b[0m in \u001b[0;36mraw_decode\u001b[0;34m(self, s, idx)\u001b[0m\n\u001b[1;32m    355\u001b[0m             \u001b[0mobj\u001b[0m\u001b[0;34m,\u001b[0m \u001b[0mend\u001b[0m \u001b[0;34m=\u001b[0m \u001b[0mself\u001b[0m\u001b[0;34m.\u001b[0m\u001b[0mscan_once\u001b[0m\u001b[0;34m(\u001b[0m\u001b[0ms\u001b[0m\u001b[0;34m,\u001b[0m \u001b[0midx\u001b[0m\u001b[0;34m)\u001b[0m\u001b[0;34m\u001b[0m\u001b[0m\n\u001b[1;32m    356\u001b[0m         \u001b[0;32mexcept\u001b[0m \u001b[0mStopIteration\u001b[0m \u001b[0;32mas\u001b[0m \u001b[0merr\u001b[0m\u001b[0;34m:\u001b[0m\u001b[0;34m\u001b[0m\u001b[0m\n\u001b[0;32m--> 357\u001b[0;31m             \u001b[0;32mraise\u001b[0m \u001b[0mJSONDecodeError\u001b[0m\u001b[0;34m(\u001b[0m\u001b[0;34m\"Expecting value\"\u001b[0m\u001b[0;34m,\u001b[0m \u001b[0ms\u001b[0m\u001b[0;34m,\u001b[0m \u001b[0merr\u001b[0m\u001b[0;34m.\u001b[0m\u001b[0mvalue\u001b[0m\u001b[0;34m)\u001b[0m \u001b[0;32mfrom\u001b[0m \u001b[0;32mNone\u001b[0m\u001b[0;34m\u001b[0m\u001b[0m\n\u001b[0m\u001b[1;32m    358\u001b[0m         \u001b[0;32mreturn\u001b[0m \u001b[0mobj\u001b[0m\u001b[0;34m,\u001b[0m \u001b[0mend\u001b[0m\u001b[0;34m\u001b[0m\u001b[0m\n",
      "\u001b[0;31mJSONDecodeError\u001b[0m: Expecting value: line 1 column 1 (char 0)"
     ]
    }
   ],
   "source": [
    "#dfCombineFull = pd.DataFrame(columns=df.columns)\n",
    "i = 17\n",
    "year=\"20\"+format(i,'02d')+\"-\"+format(i+1,'02d')\n",
    "params.update({\"SeasonYear\":year})\n",
    "df1 = get_nba_data(endpt=\"draftcombinedrillresults\",params=params)\n",
    "df2 = get_nba_data(endpt=\"draftcombineplayeranthro\",params=params)\n",
    "\n",
    "\n",
    "dfMerged = pd.merge(df1,df2)\n",
    "\n",
    "if(i>13):\n",
    "    dfMerged['PLAYER_NAME'] = dfMerged['PLAYER_NAME'] + \"(\" + year[0:4] + \")\"\n",
    "    dfMerged['PLAYER_ID']=dfMerged['PLAYER_NAME'].map(Player_ID_Dict)\n",
    "    dfMerged['PLAYER_ID']=pd.Series(dfMerged['PLAYER_ID'],dtype=str).str.split(\".\").str.get(0)\n",
    "\n",
    "    \n",
    "dfMerged = dfMerged[dfMerged['PLAYER_ID']!='nan']\n",
    "\n",
    "dfMerged = dfMerged[dfMerged['MAX_VERTICAL_LEAP']!=np.nan]\\\n",
    "                    .set_index('PLAYER_ID')\\\n",
    "                    .drop(['FIRST_NAME','LAST_NAME'],axis=1)\n",
    "#.set_index('PLAYER_ID')\n",
    "#dfCombineFull = pd.concat([dfCombineFull,dfMerged])\n",
    "dfMerged"
   ]
  },
  {
   "cell_type": "code",
   "execution_count": 20,
   "metadata": {},
   "outputs": [
    {
     "ename": "NameError",
     "evalue": "name 'dfMerged' is not defined",
     "output_type": "error",
     "traceback": [
      "\u001b[0;31m---------------------------------------------------------------------------\u001b[0m",
      "\u001b[0;31mNameError\u001b[0m                                 Traceback (most recent call last)",
      "\u001b[0;32m<ipython-input-20-377377377d48>\u001b[0m in \u001b[0;36m<module>\u001b[0;34m()\u001b[0m\n\u001b[1;32m      1\u001b[0m \u001b[0mnameList\u001b[0m \u001b[0;34m=\u001b[0m \u001b[0;34m[\u001b[0m\u001b[0;34m]\u001b[0m\u001b[0;34m\u001b[0m\u001b[0m\n\u001b[1;32m      2\u001b[0m \u001b[0myearList\u001b[0m \u001b[0;34m=\u001b[0m \u001b[0;34m[\u001b[0m\u001b[0;34m]\u001b[0m\u001b[0;34m\u001b[0m\u001b[0m\n\u001b[0;32m----> 3\u001b[0;31m \u001b[0;32mfor\u001b[0m \u001b[0mname\u001b[0m \u001b[0;32min\u001b[0m \u001b[0mdfMerged\u001b[0m\u001b[0;34m.\u001b[0m\u001b[0mPLAYER_NAME\u001b[0m\u001b[0;34m:\u001b[0m\u001b[0;34m\u001b[0m\u001b[0m\n\u001b[0m\u001b[1;32m      4\u001b[0m     \u001b[0mnameStr\u001b[0m \u001b[0;34m=\u001b[0m \u001b[0;34m'https://www.sports-reference.com/cbb/players/'\u001b[0m\u001b[0;34m\u001b[0m\u001b[0m\n\u001b[1;32m      5\u001b[0m     \u001b[0mfirst\u001b[0m \u001b[0;34m=\u001b[0m \u001b[0mre\u001b[0m\u001b[0;34m.\u001b[0m\u001b[0msub\u001b[0m\u001b[0;34m(\u001b[0m\u001b[0;34m'[^a-zA-Z]+'\u001b[0m\u001b[0;34m,\u001b[0m \u001b[0;34m''\u001b[0m\u001b[0;34m,\u001b[0m\u001b[0mname\u001b[0m\u001b[0;34m.\u001b[0m\u001b[0msplit\u001b[0m\u001b[0;34m(\u001b[0m\u001b[0;34m)\u001b[0m\u001b[0;34m[\u001b[0m\u001b[0;36m0\u001b[0m\u001b[0;34m]\u001b[0m\u001b[0;34m.\u001b[0m\u001b[0mlower\u001b[0m\u001b[0;34m(\u001b[0m\u001b[0;34m)\u001b[0m\u001b[0;34m)\u001b[0m\u001b[0;34m\u001b[0m\u001b[0m\n",
      "\u001b[0;31mNameError\u001b[0m: name 'dfMerged' is not defined"
     ]
    }
   ],
   "source": [
    "nameList = []\n",
    "yearList = []\n",
    "for name in dfMerged.PLAYER_NAME:\n",
    "    nameStr = 'https://www.sports-reference.com/cbb/players/'\n",
    "    first = re.sub('[^a-zA-Z]+', '',name.split()[0].lower())\n",
    "    last = \"\".join(name.split()[1:])[0:-6].lower().strip(\".\")\n",
    "    year = name.split()[1][-5:-1]\n",
    "    yearList.append(year)\n",
    "    nameStr += first + \"-\" + last + \"-\"\n",
    "    nameList.append(nameStr)\n",
    "    \n"
   ]
  },
  {
   "cell_type": "code",
   "execution_count": 21,
   "metadata": {},
   "outputs": [
    {
     "data": {
      "text/plain": [
       "[]"
      ]
     },
     "execution_count": 21,
     "metadata": {},
     "output_type": "execute_result"
    }
   ],
   "source": [
    "nameList"
   ]
  },
  {
   "cell_type": "code",
   "execution_count": 22,
   "metadata": {},
   "outputs": [
    {
     "ename": "NameError",
     "evalue": "name 'row' is not defined",
     "output_type": "error",
     "traceback": [
      "\u001b[0;31m---------------------------------------------------------------------------\u001b[0m",
      "\u001b[0;31mNameError\u001b[0m                                 Traceback (most recent call last)",
      "\u001b[0;32m<ipython-input-22-1f06916dcfdc>\u001b[0m in \u001b[0;36m<module>\u001b[0;34m()\u001b[0m\n\u001b[0;32m----> 1\u001b[0;31m \u001b[0mrowDf\u001b[0m \u001b[0;34m=\u001b[0m \u001b[0mpd\u001b[0m\u001b[0;34m.\u001b[0m\u001b[0mDataFrame\u001b[0m\u001b[0;34m(\u001b[0m\u001b[0mcolumns\u001b[0m\u001b[0;34m=\u001b[0m\u001b[0mrow\u001b[0m\u001b[0;34m.\u001b[0m\u001b[0mcolumns\u001b[0m\u001b[0;34m)\u001b[0m\u001b[0;34m\u001b[0m\u001b[0m\n\u001b[0m\u001b[1;32m      2\u001b[0m \u001b[0;32mfor\u001b[0m \u001b[0mindx\u001b[0m\u001b[0;34m,\u001b[0m\u001b[0mname\u001b[0m \u001b[0;32min\u001b[0m \u001b[0menumerate\u001b[0m\u001b[0;34m(\u001b[0m\u001b[0mnameList\u001b[0m\u001b[0;34m)\u001b[0m\u001b[0;34m:\u001b[0m\u001b[0;34m\u001b[0m\u001b[0m\n\u001b[1;32m      3\u001b[0m     \u001b[0mstopCondition\u001b[0m \u001b[0;34m=\u001b[0m \u001b[0;32mFalse\u001b[0m\u001b[0;34m\u001b[0m\u001b[0m\n\u001b[1;32m      4\u001b[0m     \u001b[0myear\u001b[0m \u001b[0;34m=\u001b[0m \u001b[0myearList\u001b[0m\u001b[0;34m[\u001b[0m\u001b[0mindx\u001b[0m\u001b[0;34m]\u001b[0m\u001b[0;34m\u001b[0m\u001b[0m\n\u001b[1;32m      5\u001b[0m     \u001b[0mi\u001b[0m \u001b[0;34m=\u001b[0m \u001b[0;36m1\u001b[0m\u001b[0;34m\u001b[0m\u001b[0m\n",
      "\u001b[0;31mNameError\u001b[0m: name 'row' is not defined"
     ]
    }
   ],
   "source": [
    "rowDf = pd.DataFrame(columns=row.columns)\n",
    "for indx,name in enumerate(nameList):\n",
    "    stopCondition = False\n",
    "    year = yearList[indx]\n",
    "    i = 1\n",
    "\n",
    "    while not stopCondition:\n",
    "        data_url = name + str(i) + \".html\"\n",
    "        print(data_url)\n",
    "        player_id = dfMerged.index[indx]\n",
    "        player_name = dfMerged.PLAYER_NAME[indx]\n",
    "        user_agent = \"\\\"Mozilla/5.0 (Macintosh; Intel Mac OS X 10_11_2) AppleWebKit/601.3.9 (KHTML, like Gecko) Version/9.0.2 Safari/601.3.9\\\"\"\n",
    "\n",
    "        headers = {'User-Agent':user_agent}\n",
    "        page = requests.get(data_url,headers=headers)\n",
    "        tree = html.fromstring(page.content)\n",
    "\n",
    "        if '404' not in tree.xpath('//title')[0].text:\n",
    "            finalYear = tree.xpath('//table/tbody/tr')[-1].items()[0][-1][-4:]\n",
    "\n",
    "            if (finalYear != year):\n",
    "                i+=1\n",
    "                continue\n",
    "            else:\n",
    "                stopCondition = True\n",
    "\n",
    "            treeStr = str(tree.xpath('//div[@id=\"all_players_per_poss\"]')[0]\\\n",
    "                            .getchildren()[-1])[8:-4]\n",
    "\n",
    "            tree2 = html.fromstring(treeStr)\n",
    "            valuesHTML = tree2.xpath('//table/tfoot/tr')[-1].getchildren()[1:]\n",
    "            conf = tree2.xpath('//table/tbody/tr/td')[1].getchildren()[0].text\n",
    "            colNamesHTML = tree2.xpath('//table/thead/tr/th')\n",
    "            colNames = [\"PLAYER_ID\",\"PLAYER_NAME\"]+[\"CONF\"] + [col.text for col in colNamesHTML][1:]\n",
    "            values = [player_id,player_name] + [conf] + [val.text for val in valuesHTML]\n",
    "\n",
    "            row = pd.DataFrame(pd.Series(values,index=colNames)\\\n",
    "                    .dropna()).transpose().set_index(\"PLAYER_ID\")\n",
    "\n",
    "        else:\n",
    "            stopCondition=True\n",
    "            row = None\n",
    "    rowDf = pd.concat([rowDf,row])\n",
    "    print(indx)\n",
    "    \n",
    "#Fixing juniors is going to require a functional approach to this. "
   ]
  },
  {
   "cell_type": "code",
   "execution_count": 23,
   "metadata": {},
   "outputs": [
    {
     "ename": "NameError",
     "evalue": "name 'dfMerged' is not defined",
     "output_type": "error",
     "traceback": [
      "\u001b[0;31m---------------------------------------------------------------------------\u001b[0m",
      "\u001b[0;31mNameError\u001b[0m                                 Traceback (most recent call last)",
      "\u001b[0;32m<ipython-input-23-1fdadac5b3e5>\u001b[0m in \u001b[0;36m<module>\u001b[0;34m()\u001b[0m\n\u001b[0;32m----> 1\u001b[0;31m \u001b[0mlen\u001b[0m\u001b[0;34m(\u001b[0m\u001b[0mdfMerged\u001b[0m\u001b[0;34m)\u001b[0m\u001b[0;34m\u001b[0m\u001b[0m\n\u001b[0m",
      "\u001b[0;31mNameError\u001b[0m: name 'dfMerged' is not defined"
     ]
    }
   ],
   "source": [
    "len(dfMerged)"
   ]
  },
  {
   "cell_type": "markdown",
   "metadata": {},
   "source": [
    "Need to make that into a function soon. Fuck it why not now."
   ]
  },
  {
   "cell_type": "code",
   "execution_count": 38,
   "metadata": {},
   "outputs": [],
   "source": [
    "def SportsRefCBBRowMaker(player_url,table_name,player_name,correct_year):\n",
    "    player_id = Player_ID_Dict[player_name]\n",
    "    \n",
    "    page = requests.get(player_url,headers=headers)\n",
    "    tree = html.fromstring(page.content)\n",
    "    \n",
    "    if '404' in tree.xpath('//title')[0].text:\n",
    "        return('404')\n",
    "    \n",
    "    else:\n",
    "        year = tree.xpath('//table/tbody/tr')[-1].items()[0][-1][-4:]\n",
    "        if(year!=correct_year):\n",
    "            return(year)\n",
    "        path = '//div[@id=\"'+table_name+'\"]'\n",
    "        treeStr = str(tree.xpath(path)[0].getchildren()[-1])[8:-4]\n",
    "        #This is tricky and comments might be nice here. \n",
    "\n",
    "        tree2 = html.fromstring(treeStr)\n",
    "        \n",
    "        valuesHTML = tree2.xpath('//table/tfoot/tr')[-1].getchildren()[1:]\n",
    "        ## This gives career in particular \n",
    "        conf = tree2.xpath('//table/tbody/tr/td')[1].getchildren()[0].text\n",
    "        colNamesHTML = tree2.xpath('//table/thead/tr/th')\n",
    "        colNames = [\"PLAYER_ID\",\"PLAYER_NAME\"]+[\"CONF\"] + [col.text for col in colNamesHTML][1:]\n",
    "        values = [player_id,player_name] + [conf] + [val.text for val in valuesHTML]\n",
    "\n",
    "        row = pd.DataFrame(pd.Series(values,index=colNames)\\\n",
    "                .dropna()).transpose().set_index(\"PLAYER_ID\")\n",
    " #       print(player_url)\n",
    "        return(row)\n",
    "    "
   ]
  },
  {
   "cell_type": "code",
   "execution_count": 39,
   "metadata": {},
   "outputs": [],
   "source": [
    "def sportsRefCBBTableMaker(player_df, table_name):\n",
    "    base_url = 'https://www.sports-reference.com/cbb/players/'\n",
    "    columns_df_url = \"https://www.sports-reference.com/cbb/players/malcolm-brogdon-1.html\"\n",
    "    columns_df = SportsRefCBBRowMaker(columns_df_url,table_name\n",
    "                                      ,\"Malcolm Brogdon(2016)\",'2016')\n",
    "    CBB_df = pd.DataFrame(columns=columns_df.columns)\n",
    "    for index,row in dfMerged.iterrows():\n",
    "        player_name = row['PLAYER_NAME']\n",
    "        first = re.sub('[^a-zA-Z]+', '',player_name.split()[0].lower())\n",
    "        last = \"\".join(player_name.split()[1:])[0:-6].lower().strip(\".\")\n",
    "        year = player_name.split()[1][-5:-1]\n",
    "        name_url = base_url + first + \"-\" + last + \"-\"\n",
    "\n",
    "        i = 1\n",
    "        stopping_condition=False\n",
    "        while(stopping_condition==False):\n",
    "            data_url = name_url + str(i) + \".html\"\n",
    "#            print(data_url)\n",
    "            row = SportsRefCBBRowMaker(data_url,table_name,player_name,year)\n",
    "            if isinstance(row, pd.DataFrame):\n",
    "                stopping_condition=True\n",
    "                continue\n",
    "            if(row=='404'):\n",
    "                stopping_condition=True\n",
    "                row = None\n",
    "                if(last[-2:]==\"jr\"):\n",
    "                    last = last[:-2]\n",
    "                    name_url = base_url + first + \"-\" + last + \"-\"\n",
    "                    i=1\n",
    "                    stopping_condition = False \n",
    "            i+=1\n",
    "        CBB_df = pd.concat([CBB_df,row])\n",
    "    return(CBB_df)"
   ]
  },
  {
   "cell_type": "code",
   "execution_count": 40,
   "metadata": {},
   "outputs": [
    {
     "ename": "NameError",
     "evalue": "name 'dfMerged' is not defined",
     "output_type": "error",
     "traceback": [
      "\u001b[0;31m---------------------------------------------------------------------------\u001b[0m",
      "\u001b[0;31mNameError\u001b[0m                                 Traceback (most recent call last)",
      "\u001b[0;32m<ipython-input-40-c3f01b50d5c5>\u001b[0m in \u001b[0;36m<module>\u001b[0;34m()\u001b[0m\n\u001b[0;32m----> 1\u001b[0;31m \u001b[0msportsRefCBBTableMaker\u001b[0m\u001b[0;34m(\u001b[0m\u001b[0mdfMerged\u001b[0m\u001b[0;34m,\u001b[0m \u001b[0;34m\"all_players_per_poss\"\u001b[0m\u001b[0;34m)\u001b[0m\u001b[0;34m\u001b[0m\u001b[0m\n\u001b[0m",
      "\u001b[0;31mNameError\u001b[0m: name 'dfMerged' is not defined"
     ]
    }
   ],
   "source": [
    "sportsRefCBBTableMaker(dfMerged, \"all_players_per_poss\")"
   ]
  },
  {
   "cell_type": "code",
   "execution_count": null,
   "metadata": {},
   "outputs": [],
   "source": []
  },
  {
   "cell_type": "code",
   "execution_count": 41,
   "metadata": {},
   "outputs": [
    {
     "ename": "NameError",
     "evalue": "name 'df' is not defined",
     "output_type": "error",
     "traceback": [
      "\u001b[0;31m---------------------------------------------------------------------------\u001b[0m",
      "\u001b[0;31mNameError\u001b[0m                                 Traceback (most recent call last)",
      "\u001b[0;32m<ipython-input-41-b21acfe4bc4f>\u001b[0m in \u001b[0;36m<module>\u001b[0;34m()\u001b[0m\n\u001b[0;32m----> 1\u001b[0;31m \u001b[0mdfCombineFull\u001b[0m \u001b[0;34m=\u001b[0m \u001b[0mpd\u001b[0m\u001b[0;34m.\u001b[0m\u001b[0mDataFrame\u001b[0m\u001b[0;34m(\u001b[0m\u001b[0mcolumns\u001b[0m\u001b[0;34m=\u001b[0m\u001b[0mdf\u001b[0m\u001b[0;34m.\u001b[0m\u001b[0mcolumns\u001b[0m\u001b[0;34m)\u001b[0m\u001b[0;34m\u001b[0m\u001b[0m\n\u001b[0m\u001b[1;32m      2\u001b[0m \u001b[0;32mfor\u001b[0m \u001b[0mi\u001b[0m \u001b[0;32min\u001b[0m \u001b[0mrange\u001b[0m\u001b[0;34m(\u001b[0m\u001b[0;36m10\u001b[0m\u001b[0;34m,\u001b[0m\u001b[0;36m13\u001b[0m\u001b[0;34m)\u001b[0m\u001b[0;34m:\u001b[0m\u001b[0;34m\u001b[0m\u001b[0m\n\u001b[1;32m      3\u001b[0m     \u001b[0myear\u001b[0m\u001b[0;34m=\u001b[0m\u001b[0;34m\"20\"\u001b[0m\u001b[0;34m+\u001b[0m\u001b[0mformat\u001b[0m\u001b[0;34m(\u001b[0m\u001b[0mi\u001b[0m\u001b[0;34m,\u001b[0m\u001b[0;34m'02d'\u001b[0m\u001b[0;34m)\u001b[0m\u001b[0;34m+\u001b[0m\u001b[0;34m\"-\"\u001b[0m\u001b[0;34m+\u001b[0m\u001b[0mformat\u001b[0m\u001b[0;34m(\u001b[0m\u001b[0mi\u001b[0m\u001b[0;34m+\u001b[0m\u001b[0;36m1\u001b[0m\u001b[0;34m,\u001b[0m\u001b[0;34m'02d'\u001b[0m\u001b[0;34m)\u001b[0m\u001b[0;34m\u001b[0m\u001b[0m\n\u001b[1;32m      4\u001b[0m     \u001b[0mparams\u001b[0m\u001b[0;34m.\u001b[0m\u001b[0mupdate\u001b[0m\u001b[0;34m(\u001b[0m\u001b[0;34m{\u001b[0m\u001b[0;34m\"SeasonYear\"\u001b[0m\u001b[0;34m:\u001b[0m\u001b[0myear\u001b[0m\u001b[0;34m}\u001b[0m\u001b[0;34m)\u001b[0m\u001b[0;34m\u001b[0m\u001b[0m\n\u001b[1;32m      5\u001b[0m     \u001b[0mdf1\u001b[0m \u001b[0;34m=\u001b[0m \u001b[0mget_nba_data\u001b[0m\u001b[0;34m(\u001b[0m\u001b[0mendpt\u001b[0m\u001b[0;34m=\u001b[0m\u001b[0;34m\"draftcombinedrillresults\"\u001b[0m\u001b[0;34m,\u001b[0m\u001b[0mparams\u001b[0m\u001b[0;34m=\u001b[0m\u001b[0mparams\u001b[0m\u001b[0;34m)\u001b[0m\u001b[0;34m\u001b[0m\u001b[0m\n",
      "\u001b[0;31mNameError\u001b[0m: name 'df' is not defined"
     ]
    }
   ],
   "source": [
    "dfCombineFull = pd.DataFrame(columns=df.columns)\n",
    "for i in range(10,13):\n",
    "    year=\"20\"+format(i,'02d')+\"-\"+format(i+1,'02d')\n",
    "    params.update({\"SeasonYear\":year})\n",
    "    df1 = get_nba_data(endpt=\"draftcombinedrillresults\",params=params)\n",
    "    df2 = get_nba_data(endpt=\"draftcombineplayeranthro\",params=params)\n",
    "    dfMerged = pd.merge(df1,df2,on=\"PLAYER_ID\")\n",
    "\n",
    "    if(i>13):\n",
    "        dfMerged = pd.merge(df1,df2,on=\"TEMP_PLAYER_ID\")\n",
    "        dfMerged['PLAYER_NAME'] = dfMerged['PLAYER_NAME_x'] + \"(\" + year[0:4] + \")\"\n",
    "        dfMerged['PLAYER_ID']=dfMerged['PLAYER_NAME'].map(Player_ID_Dict)\n",
    "        dfMerged['PLAYER_ID']=pd.Series(dfMerged['PLAYER_ID'],dtype=str).str.split(\".\").str.get(0)\n",
    "\n",
    "    dfCombineFull = pd.concat([dfCombineFull,dfMerged])"
   ]
  },
  {
   "cell_type": "code",
   "execution_count": 42,
   "metadata": {},
   "outputs": [
    {
     "ename": "NameError",
     "evalue": "name 'combine_columns' is not defined",
     "output_type": "error",
     "traceback": [
      "\u001b[0;31m---------------------------------------------------------------------------\u001b[0m",
      "\u001b[0;31mNameError\u001b[0m                                 Traceback (most recent call last)",
      "\u001b[0;32m<ipython-input-42-72a723e77676>\u001b[0m in \u001b[0;36m<module>\u001b[0;34m()\u001b[0m\n\u001b[0;32m----> 1\u001b[0;31m \u001b[0mfull_combine_df\u001b[0m \u001b[0;34m=\u001b[0m \u001b[0mpd\u001b[0m\u001b[0;34m.\u001b[0m\u001b[0mDataFrame\u001b[0m\u001b[0;34m(\u001b[0m\u001b[0mcolumns\u001b[0m \u001b[0;34m=\u001b[0m \u001b[0mcombine_columns\u001b[0m\u001b[0;34m)\u001b[0m\u001b[0;34m\u001b[0m\u001b[0m\n\u001b[0m\u001b[1;32m      2\u001b[0m combine_columns = ['PLAYER_NAME','DRAFT_YEAR','POSITION','STANDING_VERTICAL_LEAP',\n\u001b[1;32m      3\u001b[0m                    \u001b[0;34m'MAX_VERTICAL_LEAP'\u001b[0m\u001b[0;34m,\u001b[0m\u001b[0;34m'LANE_AGILITY_TIME'\u001b[0m\u001b[0;34m,\u001b[0m\u001b[0;34m\u001b[0m\u001b[0m\n\u001b[1;32m      4\u001b[0m                    \u001b[0;34m'MODIFIED_LANE_AGILITY_TIME'\u001b[0m\u001b[0;34m,\u001b[0m\u001b[0;34m'THREE_QUARTER_SPRINT'\u001b[0m\u001b[0;34m,\u001b[0m\u001b[0;34m\u001b[0m\u001b[0m\n\u001b[1;32m      5\u001b[0m                    \u001b[0;34m'BENCH_PRESS'\u001b[0m\u001b[0;34m,\u001b[0m\u001b[0;34m'HEIGHT_WO_SHOES'\u001b[0m\u001b[0;34m,\u001b[0m\u001b[0;34m'WEIGHT'\u001b[0m\u001b[0;34m,\u001b[0m\u001b[0;34m'WINGSPAN'\u001b[0m\u001b[0;34m,\u001b[0m\u001b[0;34m\u001b[0m\u001b[0m\n",
      "\u001b[0;31mNameError\u001b[0m: name 'combine_columns' is not defined"
     ]
    }
   ],
   "source": [
    "full_combine_df = pd.DataFrame(columns = combine_columns)\n",
    "combine_columns = ['PLAYER_NAME','DRAFT_YEAR','POSITION','STANDING_VERTICAL_LEAP',\n",
    "                   'MAX_VERTICAL_LEAP','LANE_AGILITY_TIME',\n",
    "                   'MODIFIED_LANE_AGILITY_TIME','THREE_QUARTER_SPRINT',\n",
    "                   'BENCH_PRESS','HEIGHT_WO_SHOES','WEIGHT','WINGSPAN',\n",
    "                   'STANDING_REACH','BODY_FAT_PCT','HAND_LENGTH','HAND_WIDTH'                  \n",
    "                  ]\n",
    "for i in range(0,19):\n",
    "    year=\"20\"+format(i,'02d')+\"-\"+format(i+1,'02d')\n",
    "    params.update({\"SeasonYear\":year})\n",
    "    df1 = get_nba_data(endpt=\"draftcombinedrillresults\",params=params)\n",
    "    df2 = get_nba_data(endpt=\"draftcombineplayeranthro\",params=params)\n",
    "    dfMerged = pd.merge(df1,df2)\n",
    "    dfMerged['PLAYER_ID']=pd.Series(dfMerged.PLAYER_ID,dtype=str)\n",
    "    if(i>13):\n",
    "        dfMerged['PLAYER_NAME'] = dfMerged['PLAYER_NAME']\n",
    "        dfMerged['PLAYER_ID']=(dfMerged['PLAYER_NAME']+\"(\"+year[0:4]+\")\").map(Player_ID_Dict)\n",
    "        dfMerged['PLAYER_ID']=pd.Series(dfMerged['PLAYER_ID'],dtype=str).str.split(\".\").str.get(0)\n",
    "\n",
    "    dfMerged['DRAFT_YEAR'] = int(year[0:4])    \n",
    "    dfMerged = dfMerged[dfMerged['PLAYER_ID']!='nan']\n",
    "\n",
    "    dfMerged = dfMerged[dfMerged['MAX_VERTICAL_LEAP']!=np.nan]\\\n",
    "                        .set_index('PLAYER_ID')[combine_columns]\n",
    "        \n",
    "    full_combine_df = pd.concat([full_combine_df,dfMerged])\n",
    "full_combine_df.fillna(value=np.nan, inplace=True)\n",
    "full_combine_df"
   ]
  },
  {
   "cell_type": "code",
   "execution_count": 43,
   "metadata": {
    "scrolled": true
   },
   "outputs": [
    {
     "ename": "NameError",
     "evalue": "name 'full_combine_df' is not defined",
     "output_type": "error",
     "traceback": [
      "\u001b[0;31m---------------------------------------------------------------------------\u001b[0m",
      "\u001b[0;31mNameError\u001b[0m                                 Traceback (most recent call last)",
      "\u001b[0;32m<ipython-input-43-91adc3f3735e>\u001b[0m in \u001b[0;36m<module>\u001b[0;34m()\u001b[0m\n\u001b[0;32m----> 1\u001b[0;31m \u001b[0mfull_combine_df\u001b[0m\u001b[0;34m.\u001b[0m\u001b[0mgroupby\u001b[0m\u001b[0;34m(\u001b[0m\u001b[0;34m'DRAFT_YEAR'\u001b[0m\u001b[0;34m)\u001b[0m\u001b[0;34m.\u001b[0m\u001b[0mcount\u001b[0m\u001b[0;34m(\u001b[0m\u001b[0;34m)\u001b[0m\u001b[0;34m\u001b[0m\u001b[0m\n\u001b[0m",
      "\u001b[0;31mNameError\u001b[0m: name 'full_combine_df' is not defined"
     ]
    }
   ],
   "source": [
    "full_combine_df.groupby('DRAFT_YEAR').count()"
   ]
  },
  {
   "cell_type": "code",
   "execution_count": 44,
   "metadata": {},
   "outputs": [
    {
     "ename": "NameError",
     "evalue": "name 'full_combine_df' is not defined",
     "output_type": "error",
     "traceback": [
      "\u001b[0;31m---------------------------------------------------------------------------\u001b[0m",
      "\u001b[0;31mNameError\u001b[0m                                 Traceback (most recent call last)",
      "\u001b[0;32m<ipython-input-44-d9db34c574e5>\u001b[0m in \u001b[0;36m<module>\u001b[0;34m()\u001b[0m\n\u001b[0;32m----> 1\u001b[0;31m \u001b[0mfull_combine_df\u001b[0m\u001b[0;34m\u001b[0m\u001b[0m\n\u001b[0m",
      "\u001b[0;31mNameError\u001b[0m: name 'full_combine_df' is not defined"
     ]
    }
   ],
   "source": [
    "full_combine_df"
   ]
  },
  {
   "cell_type": "markdown",
   "metadata": {},
   "source": [
    "Lets simply build a full NBA Season database over last however many years.\n",
    "Probably indexed on player ID, season, with years experience in here somewhere. \n",
    "\n"
   ]
  },
  {
   "cell_type": "code",
   "execution_count": null,
   "metadata": {},
   "outputs": [],
   "source": [
    "x = get_nba_data(endpt=\"drafthistory\",params={'LeagueID':'00'})\n",
    "x[x.SEASON=='2016'].head()"
   ]
  },
  {
   "cell_type": "markdown",
   "metadata": {},
   "source": [
    "Using schools and draft data can save a lot of requests perhaps. "
   ]
  },
  {
   "cell_type": "code",
   "execution_count": null,
   "metadata": {},
   "outputs": [],
   "source": [
    "x = get_nba_data(endpt=\"leaguedashlineups\",params={'LeagueID':'00'},\n",
    "                return_url=True)\n",
    "x"
   ]
  },
  {
   "cell_type": "markdown",
   "metadata": {},
   "source": [
    "First approach to a comprehensive nba database will follow stats used in the clustering analysis I am to follow.\n",
    "\n",
    "We're going to follow of this medium post which was referenced on HW3.\n",
    "https://fastbreakdata.com/classifying-the-modern-nba-player-with-machine-learning-539da03bb824\n",
    "\n",
    "My man used selium to scrape from bbal reference which is probably smarter than what I did. I turn to stats.nba as the API is pretty usable.\n",
    "\n",
    "He uses per 100 possesion, advanced and shooting data. I shall use the same but add in some defensive matchup data. \n",
    "\n",
    "He used career which I am going to not do. I'll use last 3 years or something. Perhaps limited by the player tracking. I also will add in some team data as what kind of offense you run and things likely has a big impact on what position you'll be playing? Maybe I shouldn't do this actually. Will consider.\n",
    "\n",
    "Lets start building our giant beautiful database and then define a bunch of variables that can be used to selectively choose columns.\n",
    "\n",
    "We'll use regular seson data but a playoff data analysis might be more fun later on for somehing else idk.\n"
   ]
  },
  {
   "cell_type": "markdown",
   "metadata": {},
   "source": [
    "Since we're going to be doing a somewhat decent amount of figuring out parameters through looking at what exists on the nba site I'm going to define a little function here."
   ]
  },
  {
   "cell_type": "code",
   "execution_count": null,
   "metadata": {},
   "outputs": [],
   "source": [
    "url = 'http://stats.nba.com/stats/leaguedashplayerstats?College=&Conference=&Country=&DateFrom=&DateTo=&Division=&DraftPick=&DraftYear=&GameScope=&GameSegment=&Height=&LastNGames=0&LeagueID=00&Location=&MeasureType=Advanced&Month=0&OpponentTeamID=0&Outcome=&PORound=0&PaceAdjust=N&PerMode=PerGame&Period=0&PlayerExperience=&PlayerPosition=&PlusMinus=N&Rank=N&Season=2017-18&SeasonSegment=&SeasonType=Regular+Season&ShotClockRange=&StarterBench=&TeamID=0&VsConference=&VsDivision=&Weight='\n",
    "    \n",
    "def get_params(url):\n",
    "    endpt = url.split('stats/')[1].split('?')[0]\n",
    "    params = {}\n",
    "    paramstring = url.split('stats/')[1].split('?')[1]\n",
    "\n",
    "    for substring in paramstring.split(\"&\"):\n",
    "        variable = substring.split('=')[0]\n",
    "        value = substring.split('=')[1]\n",
    "        params.update({variable:value})\n",
    "    return([endpt,params])\n",
    "endpt,params = get_params(url)\n",
    "params.update({'SeasonType':'Regular Season'})\n",
    "print(params)\n",
    "advanced_2017_18 = get_nba_data(endpt=endpt,params=params)"
   ]
  },
  {
   "cell_type": "code",
   "execution_count": null,
   "metadata": {},
   "outputs": [],
   "source": [
    "advanced_2017_18['SEASON'] = 2018\n",
    "advanced_2017_18['SEASON_TYPE']='Regular Season'\n",
    "\n",
    "keep = ['PLAYER_ID','SEASON','SEASON_TYPE','PLAYER_NAME','TEAM_ID','TEAM_ABBREVIATION','AGE','GP','MIN','OFF_RATING','DEF_RATING',\n",
    "    'AST_PCT','AST_TO','AST_RATIO','OREB_PCT','DREB_PCT','REB_PCT','TM_TOV_PCT','EFG_PCT',\n",
    "    'TS_PCT','USG_PCT','PACE']\n",
    "advanced_2017_18 = advanced_2017_18[keep].set_index(['PLAYER_ID','SEASON','SEASON_TYPE'])\n",
    "\n",
    "\n",
    "# .loc[:,~advanced_2017_18.columns.str.contains('RANK')]\\\n",
    "#                                     .drop(['CFID','CFPARAMS','W_PCT','W','L','PIE',\n",
    "#                                            'FGM','FGA','FGM_PG','FGA_PG'                                          \n",
    "#                                           ],axis=1)\\\n"
   ]
  },
  {
   "cell_type": "markdown",
   "metadata": {},
   "source": [
    "Back to 2013-14 begninning of  player tracking data. \n",
    "Playtype might be important and that only goes so far as 2015. \n",
    "\n",
    "This isn't especially important because we just need some sort of clustering.\n"
   ]
  },
  {
   "cell_type": "code",
   "execution_count": 35,
   "metadata": {},
   "outputs": [
    {
     "ename": "NameError",
     "evalue": "name 'advanced_2017_18' is not defined",
     "output_type": "error",
     "traceback": [
      "\u001b[0;31m---------------------------------------------------------------------------\u001b[0m",
      "\u001b[0;31mNameError\u001b[0m                                 Traceback (most recent call last)",
      "\u001b[0;32m<ipython-input-35-4df9e90450ed>\u001b[0m in \u001b[0;36m<module>\u001b[0;34m()\u001b[0m\n\u001b[0;32m----> 1\u001b[0;31m \u001b[0madvanced_full\u001b[0m \u001b[0;34m=\u001b[0m \u001b[0mpd\u001b[0m\u001b[0;34m.\u001b[0m\u001b[0mDataFrame\u001b[0m\u001b[0;34m(\u001b[0m\u001b[0mcolumns\u001b[0m\u001b[0;34m=\u001b[0m\u001b[0madvanced_2017_18\u001b[0m\u001b[0;34m.\u001b[0m\u001b[0mcolumns\u001b[0m\u001b[0;34m)\u001b[0m\u001b[0;34m\u001b[0m\u001b[0m\n\u001b[0m\u001b[1;32m      2\u001b[0m \u001b[0;34m\u001b[0m\u001b[0m\n\u001b[1;32m      3\u001b[0m \u001b[0;32mfor\u001b[0m \u001b[0mi\u001b[0m \u001b[0;32min\u001b[0m \u001b[0mrange\u001b[0m\u001b[0;34m(\u001b[0m\u001b[0;36m13\u001b[0m\u001b[0;34m,\u001b[0m\u001b[0;36m18\u001b[0m\u001b[0;34m)\u001b[0m\u001b[0;34m:\u001b[0m\u001b[0;34m\u001b[0m\u001b[0m\n\u001b[1;32m      4\u001b[0m     \u001b[0mparams\u001b[0m\u001b[0;34m.\u001b[0m\u001b[0mupdate\u001b[0m\u001b[0;34m(\u001b[0m\u001b[0;34m{\u001b[0m\u001b[0;34m'SeasonType'\u001b[0m\u001b[0;34m:\u001b[0m\u001b[0;34m'Regular Season'\u001b[0m\u001b[0;34m}\u001b[0m\u001b[0;34m)\u001b[0m\u001b[0;34m\u001b[0m\u001b[0m\n\u001b[1;32m      5\u001b[0m \u001b[0;34m\u001b[0m\u001b[0m\n",
      "\u001b[0;31mNameError\u001b[0m: name 'advanced_2017_18' is not defined"
     ]
    }
   ],
   "source": [
    "advanced_full = pd.DataFrame(columns=advanced_2017_18.columns)\n",
    "\n",
    "for i in range(13,18):\n",
    "    params.update({'SeasonType':'Regular Season'})\n",
    "    \n",
    "    year=\"20\"+format(i,'02d')+\"-\"+format(i+1,'02d')\n",
    "    params.update({'Season':year})\n",
    "    reg_season = get_nba_data(endpt=endpt,params=params)\n",
    "    reg_season['SEASON_TYPE'] = 'Regular Season'\n",
    "    params.update({'SeasonType':'Playoffs'})\n",
    "    \n",
    "    playoff = get_nba_data(endpt=endpt,params=params)\n",
    "    playoff['SEASON_TYPE'] = 'Playoffs'\n",
    "    merged = pd.concat([reg_season,playoff])\n",
    "    \n",
    "    merged['SEASON']= 2001+i\n",
    "    \n",
    "    merged = merged[keep]\n",
    "\n",
    "    advanced_full = pd.concat([advanced_full,merged])\n",
    "\n",
    "newcols = advanced_full.columns[advanced_full.columns=='PLAYER_NAME'].append(\n",
    "advanced_full.columns[advanced_full.columns!='PLAYER_NAME'])\n",
    "advanced_full['SEASON']=pd.Series(advanced_full.SEASON,dtype='int64')\n",
    "\n",
    "advanced_full['PLAYER_ID']=pd.Series(advanced_full.PLAYER_ID,dtype='int64')\n",
    "advanced_full['PLAYER_ID']=pd.Series(advanced_full.PLAYER_ID,dtype='str')\n",
    "\n",
    "advanced_full = advanced_full[newcols]\\\n",
    "                        .set_index(['PLAYER_ID','SEASON','SEASON_TYPE'])"
   ]
  },
  {
   "cell_type": "code",
   "execution_count": null,
   "metadata": {},
   "outputs": [],
   "source": [
    "advanced_full.sort_index().head()"
   ]
  },
  {
   "cell_type": "code",
   "execution_count": null,
   "metadata": {},
   "outputs": [],
   "source": [
    "endpt,params = get_params('http://stats.nba.com/stats/leaguedashplayerstats?College=&Conference=&Country=&DateFrom=&DateTo=&Division=&DraftPick=&DraftYear=&GameScope=&GameSegment=&Height=&LastNGames=0&LeagueID=00&Location=&MeasureType=Base&Month=0&OpponentTeamID=0&Outcome=&PORound=0&PaceAdjust=N&PerMode=Per100Possessions&Period=0&PlayerExperience=&PlayerPosition=&PlusMinus=N&Rank=N&Season=2017-18&SeasonSegment=&SeasonType=Regular+Season&ShotClockRange=&StarterBench=&TeamID=0&VsConference=&VsDivision=&Weight=')\n",
    "params.update({'SeasonType':'Regular Season'})\n",
    "per100poss = get_nba_data(endpt,params)\n",
    "per100poss['SEASON'] = 2018\n",
    "per100poss['SEASON_TYPE']='Regular Season'\n",
    "per100poss = per100poss.loc[:,~per100poss.columns.str.contains('RANK')]\\\n",
    "                                    .drop(['CFID','CFPARAMS','NBA_FANTASY_PTS'\n",
    "                                           ,'DD2','TD3','W','L','W_PCT','MIN']\n",
    "                                          ,axis=1)\\\n",
    "                                    .set_index(['PLAYER_ID','SEASON','SEASON_TYPE'])\n",
    "per100poss.columns"
   ]
  },
  {
   "cell_type": "code",
   "execution_count": null,
   "metadata": {},
   "outputs": [],
   "source": [
    "per_100p_full= pd.DataFrame(columns=per100poss.columns)\n",
    "\n",
    "for i in range(13,18):\n",
    "    params.update({'SeasonType':'Regular Season'})\n",
    "    \n",
    "    year=\"20\"+format(i,'02d')+\"-\"+format(i+1,'02d')\n",
    "    params.update({'Season':year})\n",
    "    reg_season = get_nba_data(endpt=endpt,params=params)\n",
    "    reg_season['SEASON_TYPE'] = 'Regular Season'\n",
    "    params.update({'SeasonType':'Playoffs'})\n",
    "    \n",
    "    playoff = get_nba_data(endpt=endpt,params=params)\n",
    "    playoff['SEASON_TYPE'] = 'Playoffs'\n",
    "    merged = pd.concat([reg_season,playoff])\n",
    "    merged = merged.loc[:,~merged.columns.str.contains('RANK')]\\\n",
    "                                    .drop(['CFID','CFPARAMS','NBA_FANTASY_PTS'\n",
    "                                           ,'DD2','TD3','W','L','W_PCT','MIN']\n",
    "                              ,axis=1)\n",
    "    merged['SEASON']= 2001+i\n",
    "\n",
    "    per_100p_full = pd.concat([per_100p_full,merged])\n",
    "\n",
    "newcols = per_100p_full.columns[per_100p_full.columns=='PLAYER_NAME'].append(\n",
    "per_100p_full.columns[per_100p_full.columns!='PLAYER_NAME'])\n",
    "per_100p_full['SEASON']=pd.Series(per_100p_full.SEASON,dtype='int64')\n",
    "\n",
    "per_100p_full['PLAYER_ID']=pd.Series(per_100p_full.PLAYER_ID,dtype='int64')\n",
    "per_100p_full['PLAYER_ID']=pd.Series(per_100p_full.PLAYER_ID,dtype='str')\n",
    "\n",
    "per_100p_full = per_100p_full[newcols]\\\n",
    "                        .set_index(['PLAYER_ID','SEASON','SEASON_TYPE'])\n",
    "per_100p_full.head()"
   ]
  },
  {
   "cell_type": "code",
   "execution_count": null,
   "metadata": {},
   "outputs": [],
   "source": [
    "endpt,params = get_params('http://stats.nba.com/stats/leaguedashplayerstats?College=&Conference=&Country=&DateFrom=&DateTo=&Division=&DraftPick=&DraftYear=&GameScope=&GameSegment=&Height=&LastNGames=0&LeagueID=00&Location=&MeasureType=Scoring&Month=0&OpponentTeamID=0&Outcome=&PORound=0&PaceAdjust=N&PerMode=PerGame&Period=0&PlayerExperience=&PlayerPosition=&PlusMinus=N&Rank=N&Season=2017-18&SeasonSegment=&SeasonType=Playoffs&ShotClockRange=&StarterBench=&TeamID=0&VsConference=&VsDivision=&Weight=')\n",
    "params.update({'SeasonType':'Regular Season'})\n",
    "scoring = get_nba_data(endpt,params)\n",
    "scoring['SEASON'] = 2018\n",
    "scoring['SEASON_TYPE']='Regular Season'\n",
    "scoring = scoring.loc[:,~scoring.columns.str.contains('RANK')]\\\n",
    "                                    .drop(['CFID','CFPARAMS','W','L','W_PCT']\n",
    "                                          ,axis=1)\\\n",
    "                                    .set_index(['PLAYER_ID','SEASON','SEASON_TYPE'])\n",
    "scoring.columns"
   ]
  },
  {
   "cell_type": "code",
   "execution_count": null,
   "metadata": {},
   "outputs": [],
   "source": [
    "scoring_full= pd.DataFrame(columns=scoring.columns)\n",
    "\n",
    "for i in range(13,18):\n",
    "    params.update({'SeasonType':'Regular Season'})\n",
    "    \n",
    "    year=\"20\"+format(i,'02d')+\"-\"+format(i+1,'02d')\n",
    "    params.update({'Season':year})\n",
    "    reg_season = get_nba_data(endpt=endpt,params=params)\n",
    "    reg_season['SEASON_TYPE'] = 'Regular Season'\n",
    "    params.update({'SeasonType':'Playoffs'})\n",
    "    \n",
    "    playoff = get_nba_data(endpt=endpt,params=params)\n",
    "    playoff['SEASON_TYPE'] = 'Playoffs'\n",
    "    merged = pd.concat([reg_season,playoff])\n",
    "    merged = merged.loc[:,~merged.columns.str.contains('RANK')]\\\n",
    "                        .drop(['CFID','CFPARAMS']\n",
    "                              ,axis=1)\n",
    "    merged['SEASON']= 2001+i\n",
    "\n",
    "    scoring_full = pd.concat([scoring_full,merged])\n",
    "\n",
    "newcols = scoring_full.columns[scoring_full.columns=='PLAYER_NAME'].append(\n",
    "scoring_full.columns[scoring_full.columns!='PLAYER_NAME'])\n",
    "scoring_full['SEASON']=pd.Series(scoring_full.SEASON,dtype='int64')\n",
    "\n",
    "scoring_full['PLAYER_ID']=pd.Series(scoring_full.PLAYER_ID,dtype='int64')\n",
    "scoring_full['PLAYER_ID']=pd.Series(scoring_full.PLAYER_ID,dtype='str')\n",
    "\n",
    "scoring_full = scoring_full[newcols]\\\n",
    "                        .set_index(['PLAYER_ID','SEASON','SEASON_TYPE'])\n",
    "scoring_full.head()"
   ]
  },
  {
   "cell_type": "code",
   "execution_count": null,
   "metadata": {},
   "outputs": [],
   "source": [
    "year=\"2017-18\"\n",
    "endpt = 'playerdashptshotdefend'\n",
    "params = {'DateFrom':'','DateTo':'','GameSegment':'',\n",
    "          'LastNGames':'0','LeagueID':'00','Location':'',\n",
    "          'Month':'0','OpponentTeamID':'0','Outcome':'',\n",
    "          'Period':'0','PlayerID':'0','Season':year,\n",
    "          'SeasonSemgent':'','SeasonType':'Regular Season',\n",
    "          'TeamID':'0','VsConference':'','VsDivision':'',\n",
    "          'PerMode':'Totals','SeasonSegment':''\n",
    "         }\n",
    "defensive = get_nba_data(endpt=endpt,params=params)\n",
    "defensive['PLAYER_ID'] = defensive.CLOSE_DEF_PERSON_ID\n",
    "defensive = defensive.set_index('PLAYER_ID').drop(['CLOSE_DEF_PERSON_ID'],axis=1)\n",
    "defensive.groupby('DEFENSE_CATEGORY')[['PCT_PLUSMINUS','FREQ']].describe()"
   ]
  },
  {
   "cell_type": "code",
   "execution_count": null,
   "metadata": {},
   "outputs": [],
   "source": [
    "def defensiveUnstack(season,season_type,measures):\n",
    "    endpt = 'playerdashptshotdefend'\n",
    "    params = {'DateFrom':'','DateTo':'','GameSegment':'',\n",
    "          'LastNGames':'0','LeagueID':'00','Location':'',\n",
    "          'Month':'0','OpponentTeamID':'0','Outcome':'',\n",
    "          'Period':'0','PlayerID':'0','Season':year,\n",
    "          'SeasonSemgent':'','SeasonType':'Regular Season',\n",
    "          'TeamID':'0','VsConference':'','VsDivision':'',\n",
    "          'PerMode':'Totals','SeasonSegment':''\n",
    "         }\n",
    "    params.update({'Season':year,\n",
    "                   'SeasonType':season_type                  \n",
    "                  })\n",
    "    defensive = get_nba_data(endpt=endpt,params=params)\n",
    "    defensive['PLAYER_ID']=defensive.CLOSE_DEF_PERSON_ID\n",
    "    defensive['SEASON'] = int(season[:4])+1\n",
    "    defensive['SEASON_TYPE'] = season_type\n",
    "    defensive = defensive.set_index('CLOSE_DEF_PERSON_ID')\n",
    "\n",
    "    categories = defensive.DEFENSE_CATEGORY.unique()[1:]\n",
    "    \n",
    "    defensive_seperate = [defensive[defensive.DEFENSE_CATEGORY==cat][measures] for cat in categories]\n",
    "    suffix_list = ['_3Pt',\"_2Pt\",\"_Lt6\",\"_Lt10\",\"_Gt15\"]\n",
    "    col_pair = defensive_seperate[0].columns\n",
    "    cols = [\"DEF_\"+col_pair + suffix for suffix in suffix_list]\n",
    "    \n",
    "    for i,pair in enumerate(cols):\n",
    "        defensive_seperate[i].columns=pair\n",
    "\n",
    "    return(pd.concat(defensive_seperate,axis=1))\n",
    "\n",
    "defensiveUnstack('2016-17','Playoffs',['PCT_PLUSMINUS','FREQ']).head()"
   ]
  },
  {
   "cell_type": "code",
   "execution_count": null,
   "metadata": {},
   "outputs": [],
   "source": [
    "defensive = defensiveUnstack('2017-18','Playoffs',['PCT_PLUSMINUS','FREQ']).head()\n",
    "defensive_full= pd.DataFrame(columns=defensive.columns)\n",
    "\n",
    "for i in range(13,18):\n",
    "    year=\"20\"+format(i,'02d')+\"-\"+format(i+1,'02d')\n",
    "    params.update({'Season':year})\n",
    "    reg_season = defensiveUnstack(year,'Regular Season',['PCT_PLUSMINUS','FREQ'])\n",
    "    reg_season['SEASON_TYPE'] = \"Regular Season\"\n",
    "    playoff = defensiveUnstack(year,'Playoffs',['PCT_PLUSMINUS','FREQ'])\n",
    "    playoff['SEASON_TYPE'] = \"Playoffs\"\n",
    "    \n",
    "    merged = pd.concat([reg_season,playoff])\n",
    "    merged['PLAYER_ID']=merged.index\n",
    "    merged['SEASON'] = 2001+i\n",
    "    \n",
    "    defensive_full = pd.concat([defensive_full,merged])\n",
    "\n",
    "\n",
    "defensive_full['SEASON']=pd.Series(defensive_full.SEASON,dtype='int64')\n",
    "\n",
    "defensive_full['PLAYER_ID']=pd.Series(defensive_full.PLAYER_ID,dtype='int64')\n",
    "defensive_full['PLAYER_ID']=pd.Series(defensive_full.PLAYER_ID,dtype='str')\n",
    "\n",
    "defensive_full = defensive_full.set_index(['PLAYER_ID','SEASON','SEASON_TYPE'])\n",
    "\n",
    "defensive_full.sort_index().head(15)"
   ]
  },
  {
   "cell_type": "code",
   "execution_count": null,
   "metadata": {},
   "outputs": [],
   "source": [
    "x = pd.merge(advanced_full,per_100p_full,left_index=True,right_index=True)\n",
    "sum(x['MIN_x']!=x['MIN_y'])\n",
    "#x.columns"
   ]
  },
  {
   "cell_type": "code",
   "execution_count": null,
   "metadata": {},
   "outputs": [],
   "source": []
  }
 ],
 "metadata": {
  "kernelspec": {
   "display_name": "Python 3",
   "language": "python",
   "name": "python3"
  },
  "language_info": {
   "codemirror_mode": {
    "name": "ipython",
    "version": 3
   },
   "file_extension": ".py",
   "mimetype": "text/x-python",
   "name": "python",
   "nbconvert_exporter": "python",
   "pygments_lexer": "ipython3",
   "version": "3.6.4"
  }
 },
 "nbformat": 4,
 "nbformat_minor": 2
}
